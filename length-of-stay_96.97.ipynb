{
 "cells": [
  {
   "cell_type": "markdown",
   "id": "8f05158a",
   "metadata": {
    "papermill": {
     "duration": 0.006635,
     "end_time": "2022-10-27T12:28:05.385537",
     "exception": false,
     "start_time": "2022-10-27T12:28:05.378902",
     "status": "completed"
    },
    "tags": []
   },
   "source": [
    "# Hospital Length of Stay Prediction \n",
    "\n",
    "This notebook explores the task of predicting the length of hospital stay based on demographic and medical information about patients. The following dataset is used: \n",
    "\n",
    "https://microsoft.github.io/r-server-hospital-length-of-stay/input_data.html"
   ]
  },
  {
   "cell_type": "markdown",
   "id": "3e84b4a8",
   "metadata": {
    "papermill": {
     "duration": 0.005018,
     "end_time": "2022-10-27T12:28:05.395394",
     "exception": false,
     "start_time": "2022-10-27T12:28:05.390376",
     "status": "completed"
    },
    "tags": []
   },
   "source": [
    "## 0. Setup "
   ]
  },
  {
   "cell_type": "code",
   "execution_count": 20,
   "id": "a734094d",
   "metadata": {
    "papermill": {
     "duration": 27.294085,
     "end_time": "2022-10-27T12:28:32.694021",
     "exception": false,
     "start_time": "2022-10-27T12:28:05.399936",
     "status": "completed"
    },
    "scrolled": true,
    "tags": []
   },
   "outputs": [
    {
     "name": "stdout",
     "output_type": "stream",
     "text": [
      "Requirement already satisfied: gradio in c:\\users\\nagam\\appdata\\local\\programs\\python\\python312\\lib\\site-packages (4.23.0)\n",
      "Requirement already satisfied: aiofiles<24.0,>=22.0 in c:\\users\\nagam\\appdata\\local\\programs\\python\\python312\\lib\\site-packages (from gradio) (23.2.1)\n",
      "Requirement already satisfied: altair<6.0,>=4.2.0 in c:\\users\\nagam\\appdata\\local\\programs\\python\\python312\\lib\\site-packages (from gradio) (5.2.0)\n",
      "Requirement already satisfied: fastapi in c:\\users\\nagam\\appdata\\local\\programs\\python\\python312\\lib\\site-packages (from gradio) (0.110.0)\n",
      "Requirement already satisfied: ffmpy in c:\\users\\nagam\\appdata\\local\\programs\\python\\python312\\lib\\site-packages (from gradio) (0.3.2)\n",
      "Requirement already satisfied: gradio-client==0.14.0 in c:\\users\\nagam\\appdata\\local\\programs\\python\\python312\\lib\\site-packages (from gradio) (0.14.0)\n",
      "Requirement already satisfied: httpx>=0.24.1 in c:\\users\\nagam\\appdata\\local\\programs\\python\\python312\\lib\\site-packages (from gradio) (0.27.0)\n",
      "Requirement already satisfied: huggingface-hub>=0.19.3 in c:\\users\\nagam\\appdata\\local\\programs\\python\\python312\\lib\\site-packages (from gradio) (0.22.0)\n",
      "Requirement already satisfied: importlib-resources<7.0,>=1.3 in c:\\users\\nagam\\appdata\\local\\programs\\python\\python312\\lib\\site-packages (from gradio) (6.4.0)\n",
      "Requirement already satisfied: jinja2<4.0 in c:\\users\\nagam\\appdata\\local\\programs\\python\\python312\\lib\\site-packages (from gradio) (3.1.2)\n",
      "Requirement already satisfied: markupsafe~=2.0 in c:\\users\\nagam\\appdata\\local\\programs\\python\\python312\\lib\\site-packages (from gradio) (2.1.3)\n",
      "Requirement already satisfied: matplotlib~=3.0 in c:\\users\\nagam\\appdata\\local\\programs\\python\\python312\\lib\\site-packages (from gradio) (3.8.2)\n",
      "Requirement already satisfied: numpy~=1.0 in c:\\users\\nagam\\appdata\\local\\programs\\python\\python312\\lib\\site-packages (from gradio) (1.26.2)\n",
      "Requirement already satisfied: orjson~=3.0 in c:\\users\\nagam\\appdata\\local\\programs\\python\\python312\\lib\\site-packages (from gradio) (3.9.15)\n",
      "Requirement already satisfied: packaging in c:\\users\\nagam\\appdata\\local\\programs\\python\\python312\\lib\\site-packages (from gradio) (23.2)\n",
      "Requirement already satisfied: pandas<3.0,>=1.0 in c:\\users\\nagam\\appdata\\local\\programs\\python\\python312\\lib\\site-packages (from gradio) (2.1.4)\n",
      "Requirement already satisfied: pillow<11.0,>=8.0 in c:\\users\\nagam\\appdata\\local\\programs\\python\\python312\\lib\\site-packages (from gradio) (10.1.0)\n",
      "Requirement already satisfied: pydantic>=2.0 in c:\\users\\nagam\\appdata\\local\\programs\\python\\python312\\lib\\site-packages (from gradio) (2.6.4)\n",
      "Requirement already satisfied: pydub in c:\\users\\nagam\\appdata\\local\\programs\\python\\python312\\lib\\site-packages (from gradio) (0.25.1)\n",
      "Requirement already satisfied: python-multipart>=0.0.9 in c:\\users\\nagam\\appdata\\local\\programs\\python\\python312\\lib\\site-packages (from gradio) (0.0.9)\n",
      "Requirement already satisfied: pyyaml<7.0,>=5.0 in c:\\users\\nagam\\appdata\\local\\programs\\python\\python312\\lib\\site-packages (from gradio) (6.0.1)\n",
      "Requirement already satisfied: ruff>=0.2.2 in c:\\users\\nagam\\appdata\\local\\programs\\python\\python312\\lib\\site-packages (from gradio) (0.3.4)\n",
      "Requirement already satisfied: semantic-version~=2.0 in c:\\users\\nagam\\appdata\\local\\programs\\python\\python312\\lib\\site-packages (from gradio) (2.10.0)\n",
      "Requirement already satisfied: tomlkit==0.12.0 in c:\\users\\nagam\\appdata\\local\\programs\\python\\python312\\lib\\site-packages (from gradio) (0.12.0)\n",
      "Requirement already satisfied: typer<1.0,>=0.9 in c:\\users\\nagam\\appdata\\local\\programs\\python\\python312\\lib\\site-packages (from typer[all]<1.0,>=0.9->gradio) (0.10.0)\n",
      "Requirement already satisfied: typing-extensions~=4.0 in c:\\users\\nagam\\appdata\\local\\programs\\python\\python312\\lib\\site-packages (from gradio) (4.10.0)\n",
      "Requirement already satisfied: uvicorn>=0.14.0 in c:\\users\\nagam\\appdata\\local\\programs\\python\\python312\\lib\\site-packages (from gradio) (0.29.0)\n",
      "Requirement already satisfied: fsspec in c:\\users\\nagam\\appdata\\local\\programs\\python\\python312\\lib\\site-packages (from gradio-client==0.14.0->gradio) (2024.3.1)\n",
      "Requirement already satisfied: websockets<12.0,>=10.0 in c:\\users\\nagam\\appdata\\local\\programs\\python\\python312\\lib\\site-packages (from gradio-client==0.14.0->gradio) (11.0.3)\n",
      "Requirement already satisfied: jsonschema>=3.0 in c:\\users\\nagam\\appdata\\local\\programs\\python\\python312\\lib\\site-packages (from altair<6.0,>=4.2.0->gradio) (4.20.0)\n",
      "Requirement already satisfied: toolz in c:\\users\\nagam\\appdata\\local\\programs\\python\\python312\\lib\\site-packages (from altair<6.0,>=4.2.0->gradio) (0.12.1)\n",
      "Requirement already satisfied: anyio in c:\\users\\nagam\\appdata\\local\\programs\\python\\python312\\lib\\site-packages (from httpx>=0.24.1->gradio) (4.2.0)\n",
      "Requirement already satisfied: certifi in c:\\users\\nagam\\appdata\\local\\programs\\python\\python312\\lib\\site-packages (from httpx>=0.24.1->gradio) (2023.11.17)\n",
      "Requirement already satisfied: httpcore==1.* in c:\\users\\nagam\\appdata\\local\\programs\\python\\python312\\lib\\site-packages (from httpx>=0.24.1->gradio) (1.0.4)\n",
      "Requirement already satisfied: idna in c:\\users\\nagam\\appdata\\local\\programs\\python\\python312\\lib\\site-packages (from httpx>=0.24.1->gradio) (3.6)\n",
      "Requirement already satisfied: sniffio in c:\\users\\nagam\\appdata\\local\\programs\\python\\python312\\lib\\site-packages (from httpx>=0.24.1->gradio) (1.3.0)\n",
      "Requirement already satisfied: h11<0.15,>=0.13 in c:\\users\\nagam\\appdata\\local\\programs\\python\\python312\\lib\\site-packages (from httpcore==1.*->httpx>=0.24.1->gradio) (0.14.0)\n",
      "Requirement already satisfied: filelock in c:\\users\\nagam\\appdata\\local\\programs\\python\\python312\\lib\\site-packages (from huggingface-hub>=0.19.3->gradio) (3.13.1)\n",
      "Requirement already satisfied: requests in c:\\users\\nagam\\appdata\\local\\programs\\python\\python312\\lib\\site-packages (from huggingface-hub>=0.19.3->gradio) (2.31.0)\n",
      "Requirement already satisfied: tqdm>=4.42.1 in c:\\users\\nagam\\appdata\\local\\programs\\python\\python312\\lib\\site-packages (from huggingface-hub>=0.19.3->gradio) (4.66.2)\n",
      "Requirement already satisfied: contourpy>=1.0.1 in c:\\users\\nagam\\appdata\\local\\programs\\python\\python312\\lib\\site-packages (from matplotlib~=3.0->gradio) (1.2.0)\n",
      "Requirement already satisfied: cycler>=0.10 in c:\\users\\nagam\\appdata\\local\\programs\\python\\python312\\lib\\site-packages (from matplotlib~=3.0->gradio) (0.12.1)\n",
      "Requirement already satisfied: fonttools>=4.22.0 in c:\\users\\nagam\\appdata\\local\\programs\\python\\python312\\lib\\site-packages (from matplotlib~=3.0->gradio) (4.47.0)\n",
      "Requirement already satisfied: kiwisolver>=1.3.1 in c:\\users\\nagam\\appdata\\local\\programs\\python\\python312\\lib\\site-packages (from matplotlib~=3.0->gradio) (1.4.5)\n",
      "Requirement already satisfied: pyparsing>=2.3.1 in c:\\users\\nagam\\appdata\\local\\programs\\python\\python312\\lib\\site-packages (from matplotlib~=3.0->gradio) (3.1.1)\n",
      "Requirement already satisfied: python-dateutil>=2.7 in c:\\users\\nagam\\appdata\\local\\programs\\python\\python312\\lib\\site-packages (from matplotlib~=3.0->gradio) (2.8.2)\n",
      "Requirement already satisfied: pytz>=2020.1 in c:\\users\\nagam\\appdata\\local\\programs\\python\\python312\\lib\\site-packages (from pandas<3.0,>=1.0->gradio) (2023.3.post1)\n",
      "Requirement already satisfied: tzdata>=2022.1 in c:\\users\\nagam\\appdata\\local\\programs\\python\\python312\\lib\\site-packages (from pandas<3.0,>=1.0->gradio) (2023.3)\n",
      "Requirement already satisfied: annotated-types>=0.4.0 in c:\\users\\nagam\\appdata\\local\\programs\\python\\python312\\lib\\site-packages (from pydantic>=2.0->gradio) (0.6.0)\n",
      "Requirement already satisfied: pydantic-core==2.16.3 in c:\\users\\nagam\\appdata\\local\\programs\\python\\python312\\lib\\site-packages (from pydantic>=2.0->gradio) (2.16.3)\n",
      "Requirement already satisfied: click<9.0.0,>=7.1.1 in c:\\users\\nagam\\appdata\\local\\programs\\python\\python312\\lib\\site-packages (from typer<1.0,>=0.9->typer[all]<1.0,>=0.9->gradio) (8.1.7)\n",
      "Requirement already satisfied: colorama<0.5.0,>=0.4.3 in c:\\users\\nagam\\appdata\\local\\programs\\python\\python312\\lib\\site-packages (from typer[all]<1.0,>=0.9->gradio) (0.4.6)\n",
      "Requirement already satisfied: shellingham<2.0.0,>=1.3.0 in c:\\users\\nagam\\appdata\\local\\programs\\python\\python312\\lib\\site-packages (from typer[all]<1.0,>=0.9->gradio) (1.5.4)\n",
      "Requirement already satisfied: rich<14.0.0,>=10.11.0 in c:\\users\\nagam\\appdata\\local\\programs\\python\\python312\\lib\\site-packages (from typer[all]<1.0,>=0.9->gradio) (13.7.1)\n",
      "Requirement already satisfied: starlette<0.37.0,>=0.36.3 in c:\\users\\nagam\\appdata\\local\\programs\\python\\python312\\lib\\site-packages (from fastapi->gradio) (0.36.3)\n",
      "Requirement already satisfied: attrs>=22.2.0 in c:\\users\\nagam\\appdata\\local\\programs\\python\\python312\\lib\\site-packages (from jsonschema>=3.0->altair<6.0,>=4.2.0->gradio) (23.1.0)\n",
      "Requirement already satisfied: jsonschema-specifications>=2023.03.6 in c:\\users\\nagam\\appdata\\local\\programs\\python\\python312\\lib\\site-packages (from jsonschema>=3.0->altair<6.0,>=4.2.0->gradio) (2023.11.2)\n",
      "Requirement already satisfied: referencing>=0.28.4 in c:\\users\\nagam\\appdata\\local\\programs\\python\\python312\\lib\\site-packages (from jsonschema>=3.0->altair<6.0,>=4.2.0->gradio) (0.32.0)\n",
      "Requirement already satisfied: rpds-py>=0.7.1 in c:\\users\\nagam\\appdata\\local\\programs\\python\\python312\\lib\\site-packages (from jsonschema>=3.0->altair<6.0,>=4.2.0->gradio) (0.15.2)\n",
      "Requirement already satisfied: six>=1.5 in c:\\users\\nagam\\appdata\\local\\programs\\python\\python312\\lib\\site-packages (from python-dateutil>=2.7->matplotlib~=3.0->gradio) (1.16.0)\n",
      "Requirement already satisfied: markdown-it-py>=2.2.0 in c:\\users\\nagam\\appdata\\local\\programs\\python\\python312\\lib\\site-packages (from rich<14.0.0,>=10.11.0->typer[all]<1.0,>=0.9->gradio) (3.0.0)\n",
      "Requirement already satisfied: pygments<3.0.0,>=2.13.0 in c:\\users\\nagam\\appdata\\local\\programs\\python\\python312\\lib\\site-packages (from rich<14.0.0,>=10.11.0->typer[all]<1.0,>=0.9->gradio) (2.17.2)\n",
      "Requirement already satisfied: charset-normalizer<4,>=2 in c:\\users\\nagam\\appdata\\local\\programs\\python\\python312\\lib\\site-packages (from requests->huggingface-hub>=0.19.3->gradio) (3.3.2)\n",
      "Requirement already satisfied: urllib3<3,>=1.21.1 in c:\\users\\nagam\\appdata\\local\\programs\\python\\python312\\lib\\site-packages (from requests->huggingface-hub>=0.19.3->gradio) (2.1.0)\n",
      "Requirement already satisfied: mdurl~=0.1 in c:\\users\\nagam\\appdata\\local\\programs\\python\\python312\\lib\\site-packages (from markdown-it-py>=2.2.0->rich<14.0.0,>=10.11.0->typer[all]<1.0,>=0.9->gradio) (0.1.2)\n"
     ]
    },
    {
     "name": "stderr",
     "output_type": "stream",
     "text": [
      "\n",
      "[notice] A new release of pip is available: 23.3.2 -> 24.0\n",
      "[notice] To update, run: python.exe -m pip install --upgrade pip\n"
     ]
    },
    {
     "name": "stdout",
     "output_type": "stream",
     "text": [
      "Requirement already satisfied: shap in c:\\users\\nagam\\appdata\\local\\programs\\python\\python312\\lib\\site-packages (0.45.0)\n",
      "Requirement already satisfied: numpy in c:\\users\\nagam\\appdata\\local\\programs\\python\\python312\\lib\\site-packages (from shap) (1.26.2)\n",
      "Requirement already satisfied: scipy in c:\\users\\nagam\\appdata\\local\\programs\\python\\python312\\lib\\site-packages (from shap) (1.11.4)\n",
      "Requirement already satisfied: scikit-learn in c:\\users\\nagam\\appdata\\local\\programs\\python\\python312\\lib\\site-packages (from shap) (1.3.2)\n",
      "Requirement already satisfied: pandas in c:\\users\\nagam\\appdata\\local\\programs\\python\\python312\\lib\\site-packages (from shap) (2.1.4)\n",
      "Requirement already satisfied: tqdm>=4.27.0 in c:\\users\\nagam\\appdata\\local\\programs\\python\\python312\\lib\\site-packages (from shap) (4.66.2)\n",
      "Requirement already satisfied: packaging>20.9 in c:\\users\\nagam\\appdata\\local\\programs\\python\\python312\\lib\\site-packages (from shap) (23.2)\n",
      "Requirement already satisfied: slicer==0.0.7 in c:\\users\\nagam\\appdata\\local\\programs\\python\\python312\\lib\\site-packages (from shap) (0.0.7)\n",
      "Requirement already satisfied: numba in c:\\users\\nagam\\appdata\\local\\programs\\python\\python312\\lib\\site-packages (from shap) (0.59.1)\n",
      "Requirement already satisfied: cloudpickle in c:\\users\\nagam\\appdata\\local\\programs\\python\\python312\\lib\\site-packages (from shap) (3.0.0)\n",
      "Requirement already satisfied: colorama in c:\\users\\nagam\\appdata\\local\\programs\\python\\python312\\lib\\site-packages (from tqdm>=4.27.0->shap) (0.4.6)\n",
      "Requirement already satisfied: llvmlite<0.43,>=0.42.0dev0 in c:\\users\\nagam\\appdata\\local\\programs\\python\\python312\\lib\\site-packages (from numba->shap) (0.42.0)\n",
      "Requirement already satisfied: python-dateutil>=2.8.2 in c:\\users\\nagam\\appdata\\local\\programs\\python\\python312\\lib\\site-packages (from pandas->shap) (2.8.2)\n",
      "Requirement already satisfied: pytz>=2020.1 in c:\\users\\nagam\\appdata\\local\\programs\\python\\python312\\lib\\site-packages (from pandas->shap) (2023.3.post1)\n",
      "Requirement already satisfied: tzdata>=2022.1 in c:\\users\\nagam\\appdata\\local\\programs\\python\\python312\\lib\\site-packages (from pandas->shap) (2023.3)\n",
      "Requirement already satisfied: joblib>=1.1.1 in c:\\users\\nagam\\appdata\\local\\programs\\python\\python312\\lib\\site-packages (from scikit-learn->shap) (1.3.2)\n",
      "Requirement already satisfied: threadpoolctl>=2.0.0 in c:\\users\\nagam\\appdata\\local\\programs\\python\\python312\\lib\\site-packages (from scikit-learn->shap) (3.2.0)\n",
      "Requirement already satisfied: six>=1.5 in c:\\users\\nagam\\appdata\\local\\programs\\python\\python312\\lib\\site-packages (from python-dateutil>=2.8.2->pandas->shap) (1.16.0)\n"
     ]
    },
    {
     "name": "stderr",
     "output_type": "stream",
     "text": [
      "\n",
      "[notice] A new release of pip is available: 23.3.2 -> 24.0\n",
      "[notice] To update, run: python.exe -m pip install --upgrade pip\n"
     ]
    }
   ],
   "source": [
    "!pip install gradio\n",
    "!pip install shap"
   ]
  },
  {
   "cell_type": "code",
   "execution_count": 21,
   "id": "54f7bf94",
   "metadata": {
    "papermill": {
     "duration": 7.383898,
     "end_time": "2022-10-27T12:28:40.086875",
     "exception": false,
     "start_time": "2022-10-27T12:28:32.702977",
     "status": "completed"
    },
    "tags": []
   },
   "outputs": [],
   "source": [
    "# imports \n",
    "import pandas as pd\n",
    "import gradio as gr \n",
    "import numpy as np\n",
    "import matplotlib.pyplot as plt\n",
    "import shap\n",
    "from lightgbm import LGBMRegressor, plot_importance\n",
    "from sklearn.model_selection import train_test_split\n",
    "from sklearn.metrics import r2_score\n",
    "from sklearn.preprocessing import LabelEncoder, StandardScaler, OneHotEncoder\n",
    "from sklearn.compose import ColumnTransformer\n",
    "from sklearn.pipeline import make_pipeline"
   ]
  },
  {
   "cell_type": "code",
   "execution_count": 22,
   "id": "29a798a8",
   "metadata": {
    "papermill": {
     "duration": 0.391569,
     "end_time": "2022-10-27T12:28:40.487478",
     "exception": false,
     "start_time": "2022-10-27T12:28:40.095909",
     "status": "completed"
    },
    "tags": []
   },
   "outputs": [
    {
     "data": {
      "text/html": [
       "<div>\n",
       "<style scoped>\n",
       "    .dataframe tbody tr th:only-of-type {\n",
       "        vertical-align: middle;\n",
       "    }\n",
       "\n",
       "    .dataframe tbody tr th {\n",
       "        vertical-align: top;\n",
       "    }\n",
       "\n",
       "    .dataframe thead th {\n",
       "        text-align: right;\n",
       "    }\n",
       "</style>\n",
       "<table border=\"1\" class=\"dataframe\">\n",
       "  <thead>\n",
       "    <tr style=\"text-align: right;\">\n",
       "      <th></th>\n",
       "      <th>eid</th>\n",
       "      <th>vdate</th>\n",
       "      <th>rcount</th>\n",
       "      <th>gender</th>\n",
       "      <th>dialysisrenalendstage</th>\n",
       "      <th>asthma</th>\n",
       "      <th>irondef</th>\n",
       "      <th>pneum</th>\n",
       "      <th>substancedependence</th>\n",
       "      <th>psychologicaldisordermajor</th>\n",
       "      <th>...</th>\n",
       "      <th>glucose</th>\n",
       "      <th>bloodureanitro</th>\n",
       "      <th>creatinine</th>\n",
       "      <th>bmi</th>\n",
       "      <th>pulse</th>\n",
       "      <th>respiration</th>\n",
       "      <th>secondarydiagnosisnonicd9</th>\n",
       "      <th>discharged</th>\n",
       "      <th>facid</th>\n",
       "      <th>lengthofstay</th>\n",
       "    </tr>\n",
       "  </thead>\n",
       "  <tbody>\n",
       "    <tr>\n",
       "      <th>0</th>\n",
       "      <td>1</td>\n",
       "      <td>8/29/2012</td>\n",
       "      <td>0.0</td>\n",
       "      <td>0</td>\n",
       "      <td>0</td>\n",
       "      <td>0</td>\n",
       "      <td>0</td>\n",
       "      <td>0</td>\n",
       "      <td>0</td>\n",
       "      <td>0</td>\n",
       "      <td>...</td>\n",
       "      <td>192.476918</td>\n",
       "      <td>12.0</td>\n",
       "      <td>1.390722</td>\n",
       "      <td>30.432418</td>\n",
       "      <td>96</td>\n",
       "      <td>6.5</td>\n",
       "      <td>4</td>\n",
       "      <td>9/1/2012</td>\n",
       "      <td>2</td>\n",
       "      <td>3</td>\n",
       "    </tr>\n",
       "    <tr>\n",
       "      <th>1</th>\n",
       "      <td>2</td>\n",
       "      <td>5/26/2012</td>\n",
       "      <td>5.5</td>\n",
       "      <td>0</td>\n",
       "      <td>0</td>\n",
       "      <td>0</td>\n",
       "      <td>0</td>\n",
       "      <td>0</td>\n",
       "      <td>0</td>\n",
       "      <td>0</td>\n",
       "      <td>...</td>\n",
       "      <td>94.078507</td>\n",
       "      <td>8.0</td>\n",
       "      <td>0.943164</td>\n",
       "      <td>28.460516</td>\n",
       "      <td>61</td>\n",
       "      <td>6.5</td>\n",
       "      <td>1</td>\n",
       "      <td>6/2/2012</td>\n",
       "      <td>1</td>\n",
       "      <td>7</td>\n",
       "    </tr>\n",
       "    <tr>\n",
       "      <th>2</th>\n",
       "      <td>3</td>\n",
       "      <td>9/22/2012</td>\n",
       "      <td>1.0</td>\n",
       "      <td>0</td>\n",
       "      <td>0</td>\n",
       "      <td>0</td>\n",
       "      <td>0</td>\n",
       "      <td>0</td>\n",
       "      <td>0</td>\n",
       "      <td>0</td>\n",
       "      <td>...</td>\n",
       "      <td>130.530524</td>\n",
       "      <td>12.0</td>\n",
       "      <td>1.065750</td>\n",
       "      <td>28.843812</td>\n",
       "      <td>64</td>\n",
       "      <td>6.5</td>\n",
       "      <td>2</td>\n",
       "      <td>9/25/2012</td>\n",
       "      <td>2</td>\n",
       "      <td>3</td>\n",
       "    </tr>\n",
       "    <tr>\n",
       "      <th>3</th>\n",
       "      <td>4</td>\n",
       "      <td>8/9/2012</td>\n",
       "      <td>0.0</td>\n",
       "      <td>0</td>\n",
       "      <td>0</td>\n",
       "      <td>0</td>\n",
       "      <td>0</td>\n",
       "      <td>0</td>\n",
       "      <td>0</td>\n",
       "      <td>0</td>\n",
       "      <td>...</td>\n",
       "      <td>163.377028</td>\n",
       "      <td>12.0</td>\n",
       "      <td>0.906862</td>\n",
       "      <td>27.959007</td>\n",
       "      <td>76</td>\n",
       "      <td>6.5</td>\n",
       "      <td>1</td>\n",
       "      <td>8/10/2012</td>\n",
       "      <td>1</td>\n",
       "      <td>1</td>\n",
       "    </tr>\n",
       "    <tr>\n",
       "      <th>4</th>\n",
       "      <td>5</td>\n",
       "      <td>12/20/2012</td>\n",
       "      <td>0.0</td>\n",
       "      <td>0</td>\n",
       "      <td>0</td>\n",
       "      <td>0</td>\n",
       "      <td>0</td>\n",
       "      <td>1</td>\n",
       "      <td>0</td>\n",
       "      <td>1</td>\n",
       "      <td>...</td>\n",
       "      <td>94.886654</td>\n",
       "      <td>11.5</td>\n",
       "      <td>1.242854</td>\n",
       "      <td>30.258927</td>\n",
       "      <td>67</td>\n",
       "      <td>5.6</td>\n",
       "      <td>2</td>\n",
       "      <td>12/24/2012</td>\n",
       "      <td>5</td>\n",
       "      <td>4</td>\n",
       "    </tr>\n",
       "  </tbody>\n",
       "</table>\n",
       "<p>5 rows × 28 columns</p>\n",
       "</div>"
      ],
      "text/plain": [
       "   eid       vdate  rcount  gender  dialysisrenalendstage  asthma  irondef  \\\n",
       "0    1   8/29/2012     0.0       0                      0       0        0   \n",
       "1    2   5/26/2012     5.5       0                      0       0        0   \n",
       "2    3   9/22/2012     1.0       0                      0       0        0   \n",
       "3    4    8/9/2012     0.0       0                      0       0        0   \n",
       "4    5  12/20/2012     0.0       0                      0       0        0   \n",
       "\n",
       "   pneum  substancedependence  psychologicaldisordermajor  ...     glucose  \\\n",
       "0      0                    0                           0  ...  192.476918   \n",
       "1      0                    0                           0  ...   94.078507   \n",
       "2      0                    0                           0  ...  130.530524   \n",
       "3      0                    0                           0  ...  163.377028   \n",
       "4      1                    0                           1  ...   94.886654   \n",
       "\n",
       "   bloodureanitro  creatinine        bmi  pulse  respiration  \\\n",
       "0            12.0    1.390722  30.432418     96          6.5   \n",
       "1             8.0    0.943164  28.460516     61          6.5   \n",
       "2            12.0    1.065750  28.843812     64          6.5   \n",
       "3            12.0    0.906862  27.959007     76          6.5   \n",
       "4            11.5    1.242854  30.258927     67          5.6   \n",
       "\n",
       "   secondarydiagnosisnonicd9  discharged  facid  lengthofstay  \n",
       "0                          4    9/1/2012      2             3  \n",
       "1                          1    6/2/2012      1             7  \n",
       "2                          2   9/25/2012      2             3  \n",
       "3                          1   8/10/2012      1             1  \n",
       "4                          2  12/24/2012      5             4  \n",
       "\n",
       "[5 rows x 28 columns]"
      ]
     },
     "execution_count": 22,
     "metadata": {},
     "output_type": "execute_result"
    }
   ],
   "source": [
    "# read in dataset\n",
    "df = pd.read_csv(\"LengthOfStay.csv\")\n",
    "# Convert '5+' to 5.5\n",
    "df['rcount'] = df['rcount'].replace('5+', 5.5)\n",
    "\n",
    "# Convert the 'rcount' column to float\n",
    "df['rcount'] = df['rcount'].astype(float)\n",
    "\n",
    "df['gender'] = df['gender'].map({'F': 0, 'M': 1})\n",
    "facid_mapping = {\n",
    "    'A': 1,\n",
    "    'B': 2,\n",
    "    'C': 3,\n",
    "    'D': 4,\n",
    "    'E': 5\n",
    "}\n",
    "\n",
    "# Apply the mapping to the facid column\n",
    "df['facid'] = df['facid'].map(facid_mapping)\n",
    "df.head()"
   ]
  },
  {
   "cell_type": "code",
   "execution_count": 23,
   "id": "53a5a743-afbe-4015-a23c-440ce55e83ec",
   "metadata": {},
   "outputs": [
    {
     "data": {
      "text/plain": [
       "facid\n",
       "5    30755\n",
       "1    30035\n",
       "2    30012\n",
       "3     4699\n",
       "4     4499\n",
       "Name: count, dtype: int64"
      ]
     },
     "execution_count": 23,
     "metadata": {},
     "output_type": "execute_result"
    }
   ],
   "source": [
    "df['facid'].value_counts()"
   ]
  },
  {
   "cell_type": "code",
   "execution_count": 24,
   "id": "4d9fdd56",
   "metadata": {
    "papermill": {
     "duration": 0.059423,
     "end_time": "2022-10-27T12:28:40.555164",
     "exception": false,
     "start_time": "2022-10-27T12:28:40.495741",
     "status": "completed"
    },
    "tags": []
   },
   "outputs": [
    {
     "name": "stdout",
     "output_type": "stream",
     "text": [
      "<class 'pandas.core.frame.DataFrame'>\n",
      "RangeIndex: 100000 entries, 0 to 99999\n",
      "Data columns (total 28 columns):\n",
      " #   Column                      Non-Null Count   Dtype  \n",
      "---  ------                      --------------   -----  \n",
      " 0   eid                         100000 non-null  int64  \n",
      " 1   vdate                       100000 non-null  object \n",
      " 2   rcount                      100000 non-null  float64\n",
      " 3   gender                      100000 non-null  int64  \n",
      " 4   dialysisrenalendstage       100000 non-null  int64  \n",
      " 5   asthma                      100000 non-null  int64  \n",
      " 6   irondef                     100000 non-null  int64  \n",
      " 7   pneum                       100000 non-null  int64  \n",
      " 8   substancedependence         100000 non-null  int64  \n",
      " 9   psychologicaldisordermajor  100000 non-null  int64  \n",
      " 10  depress                     100000 non-null  int64  \n",
      " 11  psychother                  100000 non-null  int64  \n",
      " 12  fibrosisandother            100000 non-null  int64  \n",
      " 13  malnutrition                100000 non-null  int64  \n",
      " 14  hemo                        100000 non-null  int64  \n",
      " 15  hematocrit                  100000 non-null  float64\n",
      " 16  neutrophils                 100000 non-null  float64\n",
      " 17  sodium                      100000 non-null  float64\n",
      " 18  glucose                     100000 non-null  float64\n",
      " 19  bloodureanitro              100000 non-null  float64\n",
      " 20  creatinine                  100000 non-null  float64\n",
      " 21  bmi                         100000 non-null  float64\n",
      " 22  pulse                       100000 non-null  int64  \n",
      " 23  respiration                 100000 non-null  float64\n",
      " 24  secondarydiagnosisnonicd9   100000 non-null  int64  \n",
      " 25  discharged                  100000 non-null  object \n",
      " 26  facid                       100000 non-null  int64  \n",
      " 27  lengthofstay                100000 non-null  int64  \n",
      "dtypes: float64(9), int64(17), object(2)\n",
      "memory usage: 21.4+ MB\n"
     ]
    }
   ],
   "source": [
    "df.info()"
   ]
  },
  {
   "cell_type": "code",
   "execution_count": 25,
   "id": "a55256ea",
   "metadata": {
    "papermill": {
     "duration": 0.225566,
     "end_time": "2022-10-27T12:28:40.790229",
     "exception": false,
     "start_time": "2022-10-27T12:28:40.564663",
     "status": "completed"
    },
    "scrolled": true,
    "tags": []
   },
   "outputs": [
    {
     "data": {
      "text/plain": [
       "eid\n",
       "1         1\n",
       "66651     1\n",
       "66673     1\n",
       "66672     1\n",
       "66671     1\n",
       "         ..\n",
       "33332     1\n",
       "33331     1\n",
       "33330     1\n",
       "33329     1\n",
       "100000    1\n",
       "Name: count, Length: 100000, dtype: int64"
      ]
     },
     "metadata": {},
     "output_type": "display_data"
    },
    {
     "data": {
      "text/plain": [
       "vdate\n",
       "10/3/2012     333\n",
       "6/14/2012     324\n",
       "11/11/2012    324\n",
       "9/27/2012     317\n",
       "2/22/2012     315\n",
       "             ... \n",
       "1/11/2012     230\n",
       "7/6/2012      229\n",
       "4/11/2012     227\n",
       "12/1/2012     214\n",
       "3/20/2012     212\n",
       "Name: count, Length: 367, dtype: int64"
      ]
     },
     "metadata": {},
     "output_type": "display_data"
    },
    {
     "data": {
      "text/plain": [
       "rcount\n",
       "0.0    55031\n",
       "1.0    15007\n",
       "2.0     9987\n",
       "3.0     8047\n",
       "4.0     6941\n",
       "5.5     4987\n",
       "Name: count, dtype: int64"
      ]
     },
     "metadata": {},
     "output_type": "display_data"
    },
    {
     "data": {
      "text/plain": [
       "gender\n",
       "0    57643\n",
       "1    42357\n",
       "Name: count, dtype: int64"
      ]
     },
     "metadata": {},
     "output_type": "display_data"
    },
    {
     "data": {
      "text/plain": [
       "dialysisrenalendstage\n",
       "0    96358\n",
       "1     3642\n",
       "Name: count, dtype: int64"
      ]
     },
     "metadata": {},
     "output_type": "display_data"
    },
    {
     "data": {
      "text/plain": [
       "asthma\n",
       "0    96473\n",
       "1     3527\n",
       "Name: count, dtype: int64"
      ]
     },
     "metadata": {},
     "output_type": "display_data"
    },
    {
     "data": {
      "text/plain": [
       "irondef\n",
       "0    90506\n",
       "1     9494\n",
       "Name: count, dtype: int64"
      ]
     },
     "metadata": {},
     "output_type": "display_data"
    },
    {
     "data": {
      "text/plain": [
       "pneum\n",
       "0    96055\n",
       "1     3945\n",
       "Name: count, dtype: int64"
      ]
     },
     "metadata": {},
     "output_type": "display_data"
    },
    {
     "data": {
      "text/plain": [
       "substancedependence\n",
       "0    93694\n",
       "1     6306\n",
       "Name: count, dtype: int64"
      ]
     },
     "metadata": {},
     "output_type": "display_data"
    },
    {
     "data": {
      "text/plain": [
       "psychologicaldisordermajor\n",
       "0    76096\n",
       "1    23904\n",
       "Name: count, dtype: int64"
      ]
     },
     "metadata": {},
     "output_type": "display_data"
    },
    {
     "data": {
      "text/plain": [
       "depress\n",
       "0    94834\n",
       "1     5166\n",
       "Name: count, dtype: int64"
      ]
     },
     "metadata": {},
     "output_type": "display_data"
    },
    {
     "data": {
      "text/plain": [
       "psychother\n",
       "0    95061\n",
       "1     4939\n",
       "Name: count, dtype: int64"
      ]
     },
     "metadata": {},
     "output_type": "display_data"
    },
    {
     "data": {
      "text/plain": [
       "fibrosisandother\n",
       "0    99521\n",
       "1      479\n",
       "Name: count, dtype: int64"
      ]
     },
     "metadata": {},
     "output_type": "display_data"
    },
    {
     "data": {
      "text/plain": [
       "malnutrition\n",
       "0    95052\n",
       "1     4948\n",
       "Name: count, dtype: int64"
      ]
     },
     "metadata": {},
     "output_type": "display_data"
    },
    {
     "data": {
      "text/plain": [
       "hemo\n",
       "0    92000\n",
       "1     8000\n",
       "Name: count, dtype: int64"
      ]
     },
     "metadata": {},
     "output_type": "display_data"
    },
    {
     "data": {
      "text/plain": [
       "hematocrit\n",
       "11.900000    20179\n",
       "12.000000     4866\n",
       "11.600000     1550\n",
       "11.800000     1516\n",
       "12.100000     1509\n",
       "             ...  \n",
       "10.466667        3\n",
       "6.750000         3\n",
       "7.866667         3\n",
       "11.033333        3\n",
       "12.533333        2\n",
       "Name: count, Length: 362, dtype: int64"
      ]
     },
     "metadata": {},
     "output_type": "display_data"
    },
    {
     "data": {
      "text/plain": [
       "neutrophils\n",
       "9.400000     19719\n",
       "9.300000      4248\n",
       "6.900000       912\n",
       "7.300000       872\n",
       "8.100000       871\n",
       "             ...  \n",
       "20.833333        2\n",
       "38.000000        2\n",
       "10.533333        2\n",
       "37.900000        2\n",
       "3.066667         2\n",
       "Name: count, Length: 656, dtype: int64"
      ]
     },
     "metadata": {},
     "output_type": "display_data"
    },
    {
     "data": {
      "text/plain": [
       "sodium\n",
       "136.210150    2\n",
       "141.642479    2\n",
       "136.556976    2\n",
       "138.311247    2\n",
       "134.454042    2\n",
       "             ..\n",
       "138.991515    1\n",
       "138.960912    1\n",
       "136.767861    1\n",
       "135.010558    1\n",
       "140.950137    1\n",
       "Name: count, Length: 99948, dtype: int64"
      ]
     },
     "metadata": {},
     "output_type": "display_data"
    },
    {
     "data": {
      "text/plain": [
       "glucose\n",
       "148.470465    2\n",
       "129.720211    2\n",
       "192.476918    1\n",
       "101.901810    1\n",
       "127.227144    1\n",
       "             ..\n",
       "126.497136    1\n",
       "134.358082    1\n",
       "134.633990    1\n",
       "153.441931    1\n",
       "149.572205    1\n",
       "Name: count, Length: 99998, dtype: int64"
      ]
     },
     "metadata": {},
     "output_type": "display_data"
    },
    {
     "data": {
      "text/plain": [
       "bloodureanitro\n",
       "12.000000     45404\n",
       "9.000000       4120\n",
       "10.000000      3913\n",
       "11.000000      3722\n",
       "13.000000      3469\n",
       "              ...  \n",
       "62.500000         3\n",
       "103.000000        3\n",
       "41.500000         3\n",
       "6.142857          3\n",
       "474.000000        2\n",
       "Name: count, Length: 261, dtype: int64"
      ]
     },
     "metadata": {},
     "output_type": "display_data"
    },
    {
     "data": {
      "text/plain": [
       "creatinine\n",
       "1.187913    2\n",
       "0.927038    2\n",
       "1.211433    2\n",
       "1.142182    2\n",
       "0.896881    2\n",
       "           ..\n",
       "1.210521    1\n",
       "1.302881    1\n",
       "0.993664    1\n",
       "1.261767    1\n",
       "0.813004    1\n",
       "Name: count, Length: 99994, dtype: int64"
      ]
     },
     "metadata": {},
     "output_type": "display_data"
    },
    {
     "data": {
      "text/plain": [
       "bmi\n",
       "27.843315    2\n",
       "28.844062    2\n",
       "28.618775    2\n",
       "30.322514    2\n",
       "29.184922    2\n",
       "            ..\n",
       "29.859199    1\n",
       "30.567566    1\n",
       "30.002190    1\n",
       "31.014736    1\n",
       "25.175760    1\n",
       "Name: count, Length: 99994, dtype: int64"
      ]
     },
     "metadata": {},
     "output_type": "display_data"
    },
    {
     "data": {
      "text/plain": [
       "pulse\n",
       "71     3480\n",
       "73     3384\n",
       "72     3373\n",
       "75     3371\n",
       "74     3366\n",
       "       ... \n",
       "126       1\n",
       "25        1\n",
       "23        1\n",
       "130       1\n",
       "120       1\n",
       "Name: count, Length: 100, dtype: int64"
      ]
     },
     "metadata": {},
     "output_type": "display_data"
    },
    {
     "data": {
      "text/plain": [
       "respiration\n",
       "6.500000    64833\n",
       "6.400000     1524\n",
       "6.200000     1498\n",
       "6.600000     1473\n",
       "6.900000     1449\n",
       "            ...  \n",
       "2.800000        3\n",
       "1.600000        3\n",
       "5.575000        2\n",
       "6.166667        2\n",
       "5.933333        2\n",
       "Name: count, Length: 160, dtype: int64"
      ]
     },
     "metadata": {},
     "output_type": "display_data"
    },
    {
     "data": {
      "text/plain": [
       "secondarydiagnosisnonicd9\n",
       "1     50029\n",
       "0     10090\n",
       "2      9782\n",
       "3      9020\n",
       "4      8990\n",
       "5      3987\n",
       "6      3086\n",
       "7      1960\n",
       "10     1049\n",
       "8      1006\n",
       "9      1001\n",
       "Name: count, dtype: int64"
      ]
     },
     "metadata": {},
     "output_type": "display_data"
    },
    {
     "data": {
      "text/plain": [
       "discharged\n",
       "2/16/2012     316\n",
       "6/19/2012     315\n",
       "10/25/2012    315\n",
       "3/9/2012      313\n",
       "10/28/2012    312\n",
       "             ... \n",
       "1/9/2013       23\n",
       "1/10/2013       7\n",
       "1/12/2013       2\n",
       "1/11/2013       2\n",
       "1/13/2013       1\n",
       "Name: count, Length: 378, dtype: int64"
      ]
     },
     "metadata": {},
     "output_type": "display_data"
    },
    {
     "data": {
      "text/plain": [
       "facid\n",
       "5    30755\n",
       "1    30035\n",
       "2    30012\n",
       "3     4699\n",
       "4     4499\n",
       "Name: count, dtype: int64"
      ]
     },
     "metadata": {},
     "output_type": "display_data"
    },
    {
     "data": {
      "text/plain": [
       "lengthofstay\n",
       "1     17979\n",
       "3     16068\n",
       "4     14822\n",
       "2     12825\n",
       "5     12116\n",
       "6     10362\n",
       "7      7263\n",
       "8      4652\n",
       "9      2184\n",
       "10     1000\n",
       "11      460\n",
       "12      137\n",
       "13       75\n",
       "14       31\n",
       "15       16\n",
       "16        6\n",
       "17        4\n",
       "Name: count, dtype: int64"
      ]
     },
     "metadata": {},
     "output_type": "display_data"
    }
   ],
   "source": [
    "for col in df.columns: \n",
    "    display(df[col].value_counts())"
   ]
  },
  {
   "cell_type": "markdown",
   "id": "6af0fbe1",
   "metadata": {
    "papermill": {
     "duration": 0.01146,
     "end_time": "2022-10-27T12:28:40.812892",
     "exception": false,
     "start_time": "2022-10-27T12:28:40.801432",
     "status": "completed"
    },
    "tags": []
   },
   "source": [
    "## 1. Data Cleaning"
   ]
  },
  {
   "cell_type": "code",
   "execution_count": 26,
   "id": "98553b5b",
   "metadata": {
    "papermill": {
     "duration": 0.101773,
     "end_time": "2022-10-27T12:28:40.925480",
     "exception": false,
     "start_time": "2022-10-27T12:28:40.823707",
     "status": "completed"
    },
    "tags": []
   },
   "outputs": [
    {
     "data": {
      "text/html": [
       "<div>\n",
       "<style scoped>\n",
       "    .dataframe tbody tr th:only-of-type {\n",
       "        vertical-align: middle;\n",
       "    }\n",
       "\n",
       "    .dataframe tbody tr th {\n",
       "        vertical-align: top;\n",
       "    }\n",
       "\n",
       "    .dataframe thead th {\n",
       "        text-align: right;\n",
       "    }\n",
       "</style>\n",
       "<table border=\"1\" class=\"dataframe\">\n",
       "  <thead>\n",
       "    <tr style=\"text-align: right;\">\n",
       "      <th></th>\n",
       "      <th>eid</th>\n",
       "      <th>vdate</th>\n",
       "      <th>rcount</th>\n",
       "      <th>gender</th>\n",
       "      <th>dialysisrenalendstage</th>\n",
       "      <th>asthma</th>\n",
       "      <th>irondef</th>\n",
       "      <th>pneum</th>\n",
       "      <th>substancedependence</th>\n",
       "      <th>psychologicaldisordermajor</th>\n",
       "      <th>...</th>\n",
       "      <th>glucose</th>\n",
       "      <th>bloodureanitro</th>\n",
       "      <th>creatinine</th>\n",
       "      <th>bmi</th>\n",
       "      <th>pulse</th>\n",
       "      <th>respiration</th>\n",
       "      <th>secondarydiagnosisnonicd9</th>\n",
       "      <th>discharged</th>\n",
       "      <th>facid</th>\n",
       "      <th>lengthofstay</th>\n",
       "    </tr>\n",
       "  </thead>\n",
       "  <tbody>\n",
       "    <tr>\n",
       "      <th>0</th>\n",
       "      <td>1</td>\n",
       "      <td>2012-08-29</td>\n",
       "      <td>0.0</td>\n",
       "      <td>0</td>\n",
       "      <td>0</td>\n",
       "      <td>0</td>\n",
       "      <td>0</td>\n",
       "      <td>0</td>\n",
       "      <td>0</td>\n",
       "      <td>0</td>\n",
       "      <td>...</td>\n",
       "      <td>192.476918</td>\n",
       "      <td>12.0</td>\n",
       "      <td>1.390722</td>\n",
       "      <td>30.432418</td>\n",
       "      <td>96</td>\n",
       "      <td>6.5</td>\n",
       "      <td>4</td>\n",
       "      <td>2012-09-01</td>\n",
       "      <td>2</td>\n",
       "      <td>3</td>\n",
       "    </tr>\n",
       "    <tr>\n",
       "      <th>1</th>\n",
       "      <td>2</td>\n",
       "      <td>2012-05-26</td>\n",
       "      <td>5.5</td>\n",
       "      <td>0</td>\n",
       "      <td>0</td>\n",
       "      <td>0</td>\n",
       "      <td>0</td>\n",
       "      <td>0</td>\n",
       "      <td>0</td>\n",
       "      <td>0</td>\n",
       "      <td>...</td>\n",
       "      <td>94.078507</td>\n",
       "      <td>8.0</td>\n",
       "      <td>0.943164</td>\n",
       "      <td>28.460516</td>\n",
       "      <td>61</td>\n",
       "      <td>6.5</td>\n",
       "      <td>1</td>\n",
       "      <td>2012-06-02</td>\n",
       "      <td>1</td>\n",
       "      <td>7</td>\n",
       "    </tr>\n",
       "    <tr>\n",
       "      <th>2</th>\n",
       "      <td>3</td>\n",
       "      <td>2012-09-22</td>\n",
       "      <td>1.0</td>\n",
       "      <td>0</td>\n",
       "      <td>0</td>\n",
       "      <td>0</td>\n",
       "      <td>0</td>\n",
       "      <td>0</td>\n",
       "      <td>0</td>\n",
       "      <td>0</td>\n",
       "      <td>...</td>\n",
       "      <td>130.530524</td>\n",
       "      <td>12.0</td>\n",
       "      <td>1.065750</td>\n",
       "      <td>28.843812</td>\n",
       "      <td>64</td>\n",
       "      <td>6.5</td>\n",
       "      <td>2</td>\n",
       "      <td>2012-09-25</td>\n",
       "      <td>2</td>\n",
       "      <td>3</td>\n",
       "    </tr>\n",
       "    <tr>\n",
       "      <th>3</th>\n",
       "      <td>4</td>\n",
       "      <td>2012-08-09</td>\n",
       "      <td>0.0</td>\n",
       "      <td>0</td>\n",
       "      <td>0</td>\n",
       "      <td>0</td>\n",
       "      <td>0</td>\n",
       "      <td>0</td>\n",
       "      <td>0</td>\n",
       "      <td>0</td>\n",
       "      <td>...</td>\n",
       "      <td>163.377028</td>\n",
       "      <td>12.0</td>\n",
       "      <td>0.906862</td>\n",
       "      <td>27.959007</td>\n",
       "      <td>76</td>\n",
       "      <td>6.5</td>\n",
       "      <td>1</td>\n",
       "      <td>2012-08-10</td>\n",
       "      <td>1</td>\n",
       "      <td>1</td>\n",
       "    </tr>\n",
       "    <tr>\n",
       "      <th>4</th>\n",
       "      <td>5</td>\n",
       "      <td>2012-12-20</td>\n",
       "      <td>0.0</td>\n",
       "      <td>0</td>\n",
       "      <td>0</td>\n",
       "      <td>0</td>\n",
       "      <td>0</td>\n",
       "      <td>1</td>\n",
       "      <td>0</td>\n",
       "      <td>1</td>\n",
       "      <td>...</td>\n",
       "      <td>94.886654</td>\n",
       "      <td>11.5</td>\n",
       "      <td>1.242854</td>\n",
       "      <td>30.258927</td>\n",
       "      <td>67</td>\n",
       "      <td>5.6</td>\n",
       "      <td>2</td>\n",
       "      <td>2012-12-24</td>\n",
       "      <td>5</td>\n",
       "      <td>4</td>\n",
       "    </tr>\n",
       "  </tbody>\n",
       "</table>\n",
       "<p>5 rows × 28 columns</p>\n",
       "</div>"
      ],
      "text/plain": [
       "   eid      vdate rcount gender  dialysisrenalendstage  asthma  irondef  \\\n",
       "0    1 2012-08-29    0.0      0                      0       0        0   \n",
       "1    2 2012-05-26    5.5      0                      0       0        0   \n",
       "2    3 2012-09-22    1.0      0                      0       0        0   \n",
       "3    4 2012-08-09    0.0      0                      0       0        0   \n",
       "4    5 2012-12-20    0.0      0                      0       0        0   \n",
       "\n",
       "   pneum  substancedependence  psychologicaldisordermajor  ...     glucose  \\\n",
       "0      0                    0                           0  ...  192.476918   \n",
       "1      0                    0                           0  ...   94.078507   \n",
       "2      0                    0                           0  ...  130.530524   \n",
       "3      0                    0                           0  ...  163.377028   \n",
       "4      1                    0                           1  ...   94.886654   \n",
       "\n",
       "   bloodureanitro  creatinine        bmi  pulse  respiration  \\\n",
       "0            12.0    1.390722  30.432418     96          6.5   \n",
       "1             8.0    0.943164  28.460516     61          6.5   \n",
       "2            12.0    1.065750  28.843812     64          6.5   \n",
       "3            12.0    0.906862  27.959007     76          6.5   \n",
       "4            11.5    1.242854  30.258927     67          5.6   \n",
       "\n",
       "   secondarydiagnosisnonicd9  discharged  facid  lengthofstay  \n",
       "0                          4  2012-09-01      2             3  \n",
       "1                          1  2012-06-02      1             7  \n",
       "2                          2  2012-09-25      2             3  \n",
       "3                          1  2012-08-10      1             1  \n",
       "4                          2  2012-12-24      5             4  \n",
       "\n",
       "[5 rows x 28 columns]"
      ]
     },
     "execution_count": 26,
     "metadata": {},
     "output_type": "execute_result"
    }
   ],
   "source": [
    "# type conversions \n",
    "datetime_cols = [\"vdate\", \"discharged\"]\n",
    "cat_cols = [\"gender\", \"rcount\", \"facid\"]\n",
    "bin_cols = [\"dialysisrenalendstage\", \n",
    "            \"asthma\", \n",
    "            \"irondef\", \n",
    "            \"pneum\", \n",
    "            \"substancedependence\", \n",
    "            \"psychologicaldisordermajor\",\n",
    "            \"depress\",\n",
    "            \"psychother\",\n",
    "            \"fibrosisandother\",\n",
    "            \"malnutrition\",\n",
    "            \"hemo\"]\n",
    "num_cols = [\"hematocrit\",\n",
    "            \"neutrophils\",\n",
    "            \"sodium\",\n",
    "            \"glucose\",\n",
    "            \"bloodureanitro\",\n",
    "            \"creatinine\",\n",
    "            \"bmi\",\n",
    "            \"respiration\"]\n",
    "\n",
    "for date_col, cat_col in zip(datetime_cols, cat_cols): \n",
    "    df[date_col] = pd.to_datetime(df[date_col], format=\"%m/%d/%Y\")\n",
    "    df[cat_col] = df[cat_col].astype(\"category\")\n",
    "df.head()"
   ]
  },
  {
   "cell_type": "code",
   "execution_count": 27,
   "id": "1ad4f3e2",
   "metadata": {
    "papermill": {
     "duration": 0.036651,
     "end_time": "2022-10-27T12:28:40.979762",
     "exception": false,
     "start_time": "2022-10-27T12:28:40.943111",
     "status": "completed"
    },
    "tags": []
   },
   "outputs": [
    {
     "name": "stdout",
     "output_type": "stream",
     "text": [
      "<class 'pandas.core.frame.DataFrame'>\n",
      "RangeIndex: 100000 entries, 0 to 99999\n",
      "Data columns (total 28 columns):\n",
      " #   Column                      Non-Null Count   Dtype         \n",
      "---  ------                      --------------   -----         \n",
      " 0   eid                         100000 non-null  int64         \n",
      " 1   vdate                       100000 non-null  datetime64[ns]\n",
      " 2   rcount                      100000 non-null  category      \n",
      " 3   gender                      100000 non-null  category      \n",
      " 4   dialysisrenalendstage       100000 non-null  int64         \n",
      " 5   asthma                      100000 non-null  int64         \n",
      " 6   irondef                     100000 non-null  int64         \n",
      " 7   pneum                       100000 non-null  int64         \n",
      " 8   substancedependence         100000 non-null  int64         \n",
      " 9   psychologicaldisordermajor  100000 non-null  int64         \n",
      " 10  depress                     100000 non-null  int64         \n",
      " 11  psychother                  100000 non-null  int64         \n",
      " 12  fibrosisandother            100000 non-null  int64         \n",
      " 13  malnutrition                100000 non-null  int64         \n",
      " 14  hemo                        100000 non-null  int64         \n",
      " 15  hematocrit                  100000 non-null  float64       \n",
      " 16  neutrophils                 100000 non-null  float64       \n",
      " 17  sodium                      100000 non-null  float64       \n",
      " 18  glucose                     100000 non-null  float64       \n",
      " 19  bloodureanitro              100000 non-null  float64       \n",
      " 20  creatinine                  100000 non-null  float64       \n",
      " 21  bmi                         100000 non-null  float64       \n",
      " 22  pulse                       100000 non-null  int64         \n",
      " 23  respiration                 100000 non-null  float64       \n",
      " 24  secondarydiagnosisnonicd9   100000 non-null  int64         \n",
      " 25  discharged                  100000 non-null  datetime64[ns]\n",
      " 26  facid                       100000 non-null  int64         \n",
      " 27  lengthofstay                100000 non-null  int64         \n",
      "dtypes: category(2), datetime64[ns](2), float64(8), int64(16)\n",
      "memory usage: 20.0 MB\n"
     ]
    }
   ],
   "source": [
    "df.info()"
   ]
  },
  {
   "cell_type": "markdown",
   "id": "cbaee0c8",
   "metadata": {
    "papermill": {
     "duration": 0.011602,
     "end_time": "2022-10-27T12:28:41.003119",
     "exception": false,
     "start_time": "2022-10-27T12:28:40.991517",
     "status": "completed"
    },
    "tags": []
   },
   "source": [
    "## 2. Feature Engineering"
   ]
  },
  {
   "cell_type": "code",
   "execution_count": 28,
   "id": "6e9a13cd",
   "metadata": {
    "papermill": {
     "duration": 0.025961,
     "end_time": "2022-10-27T12:28:41.041316",
     "exception": false,
     "start_time": "2022-10-27T12:28:41.015355",
     "status": "completed"
    },
    "tags": []
   },
   "outputs": [],
   "source": [
    "# number_of_issues transform function\n",
    "def calculate_number_of_issues(df, bin_cols):\n",
    "    df[\"numberofissues\"] = df[bin_cols].sum(axis=1)\n",
    "    return df\n",
    "\n",
    "df = calculate_number_of_issues(df, bin_cols)"
   ]
  },
  {
   "cell_type": "code",
   "execution_count": null,
   "id": "272fa003-b866-480e-b46a-950f457b91f9",
   "metadata": {},
   "outputs": [],
   "source": []
  },
  {
   "cell_type": "code",
   "execution_count": 29,
   "id": "a866b62e-ad84-4348-bfa0-64c17c602c62",
   "metadata": {},
   "outputs": [
    {
     "data": {
      "text/plain": [
       "eid                           0\n",
       "vdate                         0\n",
       "rcount                        0\n",
       "gender                        0\n",
       "dialysisrenalendstage         0\n",
       "asthma                        0\n",
       "irondef                       0\n",
       "pneum                         0\n",
       "substancedependence           0\n",
       "psychologicaldisordermajor    0\n",
       "depress                       0\n",
       "psychother                    0\n",
       "fibrosisandother              0\n",
       "malnutrition                  0\n",
       "hemo                          0\n",
       "hematocrit                    0\n",
       "neutrophils                   0\n",
       "sodium                        0\n",
       "glucose                       0\n",
       "bloodureanitro                0\n",
       "creatinine                    0\n",
       "bmi                           0\n",
       "pulse                         0\n",
       "respiration                   0\n",
       "secondarydiagnosisnonicd9     0\n",
       "discharged                    0\n",
       "facid                         0\n",
       "lengthofstay                  0\n",
       "numberofissues                0\n",
       "dtype: int64"
      ]
     },
     "execution_count": 29,
     "metadata": {},
     "output_type": "execute_result"
    }
   ],
   "source": [
    "df.isnull().sum()"
   ]
  },
  {
   "cell_type": "markdown",
   "id": "5bdd73b5",
   "metadata": {
    "papermill": {
     "duration": 0.014389,
     "end_time": "2022-10-27T12:28:41.068147",
     "exception": false,
     "start_time": "2022-10-27T12:28:41.053758",
     "status": "completed"
    },
    "tags": []
   },
   "source": [
    "## 3. Modelling "
   ]
  },
  {
   "cell_type": "code",
   "execution_count": 30,
   "id": "afb32761",
   "metadata": {
    "papermill": {
     "duration": 0.039933,
     "end_time": "2022-10-27T12:28:41.124755",
     "exception": false,
     "start_time": "2022-10-27T12:28:41.084822",
     "status": "completed"
    },
    "tags": []
   },
   "outputs": [
    {
     "data": {
      "text/plain": [
       "lengthofstay\n",
       "1               17979\n",
       "3               16068\n",
       "4               14822\n",
       "2               12825\n",
       "5               12116\n",
       "6               10362\n",
       "7                7263\n",
       "8                4652\n",
       "9                2184\n",
       "10               1000\n",
       "11                460\n",
       "12                137\n",
       "13                 75\n",
       "14                 31\n",
       "15                 16\n",
       "16                  6\n",
       "17                  4\n",
       "Name: count, dtype: int64"
      ]
     },
     "execution_count": 30,
     "metadata": {},
     "output_type": "execute_result"
    }
   ],
   "source": [
    "labels, features = df[[\"lengthofstay\"]], df.drop([\"lengthofstay\", \"discharged\", \"vdate\", \"eid\"], axis=1)\n",
    "labels.value_counts()"
   ]
  },
  {
   "cell_type": "code",
   "execution_count": 31,
   "id": "cbda9edf",
   "metadata": {
    "papermill": {
     "duration": 0.033932,
     "end_time": "2022-10-27T12:28:41.170112",
     "exception": false,
     "start_time": "2022-10-27T12:28:41.136180",
     "status": "completed"
    },
    "tags": []
   },
   "outputs": [
    {
     "name": "stdout",
     "output_type": "stream",
     "text": [
      "<class 'pandas.core.frame.DataFrame'>\n",
      "RangeIndex: 100000 entries, 0 to 99999\n",
      "Data columns (total 25 columns):\n",
      " #   Column                      Non-Null Count   Dtype   \n",
      "---  ------                      --------------   -----   \n",
      " 0   rcount                      100000 non-null  category\n",
      " 1   gender                      100000 non-null  category\n",
      " 2   dialysisrenalendstage       100000 non-null  int64   \n",
      " 3   asthma                      100000 non-null  int64   \n",
      " 4   irondef                     100000 non-null  int64   \n",
      " 5   pneum                       100000 non-null  int64   \n",
      " 6   substancedependence         100000 non-null  int64   \n",
      " 7   psychologicaldisordermajor  100000 non-null  int64   \n",
      " 8   depress                     100000 non-null  int64   \n",
      " 9   psychother                  100000 non-null  int64   \n",
      " 10  fibrosisandother            100000 non-null  int64   \n",
      " 11  malnutrition                100000 non-null  int64   \n",
      " 12  hemo                        100000 non-null  int64   \n",
      " 13  hematocrit                  100000 non-null  float64 \n",
      " 14  neutrophils                 100000 non-null  float64 \n",
      " 15  sodium                      100000 non-null  float64 \n",
      " 16  glucose                     100000 non-null  float64 \n",
      " 17  bloodureanitro              100000 non-null  float64 \n",
      " 18  creatinine                  100000 non-null  float64 \n",
      " 19  bmi                         100000 non-null  float64 \n",
      " 20  pulse                       100000 non-null  int64   \n",
      " 21  respiration                 100000 non-null  float64 \n",
      " 22  secondarydiagnosisnonicd9   100000 non-null  int64   \n",
      " 23  facid                       100000 non-null  int64   \n",
      " 24  numberofissues              100000 non-null  int64   \n",
      "dtypes: category(2), float64(8), int64(15)\n",
      "memory usage: 17.7 MB\n"
     ]
    }
   ],
   "source": [
    "features.info()"
   ]
  },
  {
   "cell_type": "code",
   "execution_count": 32,
   "id": "e945c75f",
   "metadata": {
    "papermill": {
     "duration": 0.060898,
     "end_time": "2022-10-27T12:28:41.243604",
     "exception": false,
     "start_time": "2022-10-27T12:28:41.182706",
     "status": "completed"
    },
    "tags": []
   },
   "outputs": [],
   "source": [
    "x_train, x_test, y_train, y_test = train_test_split(features, labels)"
   ]
  },
  {
   "cell_type": "code",
   "execution_count": 33,
   "id": "e9fbbde5",
   "metadata": {
    "papermill": {
     "duration": 1.250027,
     "end_time": "2022-10-27T12:28:42.506164",
     "exception": false,
     "start_time": "2022-10-27T12:28:41.256137",
     "status": "completed"
    },
    "tags": []
   },
   "outputs": [
    {
     "name": "stdout",
     "output_type": "stream",
     "text": [
      "Root Mean Squared Error (RMSE): 0.4074825834162697\n",
      "R-squared (R2) score: 0.9697400923921374\n",
      "Mean Absolute Error (MAE): 0.3034617036908865\n"
     ]
    }
   ],
   "source": [
    "import xgboost as xgb\n",
    "from sklearn.metrics import mean_squared_error, r2_score, mean_absolute_error\n",
    "from sklearn.model_selection import train_test_split\n",
    "\n",
    "# Train-test split\n",
    "x_train, x_test, y_train, y_test = train_test_split(features, labels, test_size=0.2, random_state=42)\n",
    "\n",
    "# Convert categorical columns to numerical or one-hot encoded representations\n",
    "x_train_encoded = pd.get_dummies(x_train)  # Convert categorical variables into dummy/indicator variables\n",
    "x_test_encoded = pd.get_dummies(x_test)\n",
    "\n",
    "# Create an XGBRegressor instance\n",
    "xgb_regressor = xgb.XGBRegressor(objective='reg:squarederror', random_state=42)\n",
    "\n",
    "# Fit the model\n",
    "xgb_regressor.fit(x_train_encoded, y_train)\n",
    "\n",
    "# Predict on the test set\n",
    "y_pred = xgb_regressor.predict(x_test_encoded)\n",
    "\n",
    "# Calculate RMSE\n",
    "rmse = mean_squared_error(y_test, y_pred, squared=False)\n",
    "\n",
    "# Calculate R-squared score\n",
    "r2 = r2_score(y_test, y_pred)\n",
    "\n",
    "# Calculate MAE\n",
    "mae = mean_absolute_error(y_test, y_pred)\n",
    "\n",
    "print('Root Mean Squared Error (RMSE):', rmse)\n",
    "print('R-squared (R2) score:', r2)\n",
    "print('Mean Absolute Error (MAE):', mae)\n"
   ]
  },
  {
   "cell_type": "code",
   "execution_count": 34,
   "id": "957d161a-3c5b-4829-bde8-4b3b0ebf16de",
   "metadata": {},
   "outputs": [
    {
     "data": {
      "image/png": "[encoded data removed]",
      "text/plain": [
       "<Figure size 640x480 with 1 Axes>"
      ]
     },
     "metadata": {},
     "output_type": "display_data"
    }
   ],
   "source": [
    "# Plotting\n",
    "plt.scatter(y_test, y_pred, color='blue')  # Scatter plot with red color\n",
    "plt.plot(y_test, y_test, color='red')     # Line plot with blue color (y = x line)\n",
    "\n",
    "# Adding labels and title\n",
    "plt.xlabel('Ytest')\n",
    "plt.ylabel('Ypred')\n",
    "plt.title('Comparison between ytest and ypred')\n",
    "\n",
    "# Displaying the plot\n",
    "plt.show()\n"
   ]
  },
  {
   "cell_type": "code",
   "execution_count": 35,
   "id": "5cd12474-2e37-4e5e-b0e8-a9b599eb2443",
   "metadata": {},
   "outputs": [
    {
     "data": {
      "image/png": "[encoded data removed]",
      "text/plain": [
       "<Figure size 1000x600 with 1 Axes>"
      ]
     },
     "metadata": {},
     "output_type": "display_data"
    }
   ],
   "source": [
    "# Scatter plot\n",
    "# Visualizes the relationship between the actual and predicted values. It helps to understand how well the model predicts the target variable across the range of its values. A perfect model would exhibit a diagonal line where actual values equal predicted values.\n",
    "\n",
    "plt.figure(figsize=(10, 6))\n",
    "plt.scatter(y_test, y_pred, color='blue', alpha=0.5)\n",
    "plt.title('Actual vs. Predicted')\n",
    "plt.xlabel('Actual')\n",
    "plt.ylabel('Predicted')\n",
    "plt.show()"
   ]
  },
  {
   "cell_type": "code",
   "execution_count": 36,
   "id": "e36818bc-f66f-4790-aa4a-de59065bc85d",
   "metadata": {},
   "outputs": [
    {
     "data": {
      "image/png": "[encoded data removed]",
      "text/plain": [
       "<Figure size 1000x600 with 1 Axes>"
      ]
     },
     "metadata": {},
     "output_type": "display_data"
    }
   ],
   "source": [
    "# Residual plot\n",
    "#Residual plot: Shows the distribution of the errors (residuals) made by the model. It helps to assess whether the errors are randomly distributed around zero, which is an assumption of linear regression models. Patterns in the residuals may indicate systematic errors in the model.\n",
    "\n",
    "residuals = y_test.values.flatten() - y_pred\n",
    "plt.figure(figsize=(10, 6))\n",
    "plt.scatter(y_pred, residuals, color='green', alpha=0.5)\n",
    "plt.title('Residual Plot')\n",
    "plt.xlabel('Predicted')\n",
    "plt.ylabel('Residuals')\n",
    "plt.axhline(y=0, color='red', linestyle='--')\n",
    "plt.show()"
   ]
  },
  {
   "cell_type": "code",
   "execution_count": 38,
   "id": "ca2f2fcc-02ea-44fb-91c9-40298661f2fc",
   "metadata": {},
   "outputs": [
    {
     "data": {
      "image/png": "[encoded data removed]",
      "text/plain": [
       "<Figure size 1000x600 with 1 Axes>"
      ]
     },
     "metadata": {},
     "output_type": "display_data"
    },
    {
     "data": {
      "text/plain": [
       "Index(['eid', 'vdate', 'rcount', 'gender', 'dialysisrenalendstage', 'asthma',\n",
       "       'irondef', 'pneum', 'substancedependence', 'psychologicaldisordermajor',\n",
       "       'depress', 'psychother', 'fibrosisandother', 'malnutrition', 'hemo',\n",
       "       'hematocrit', 'neutrophils', 'sodium', 'glucose', 'bloodureanitro',\n",
       "       'creatinine', 'bmi', 'pulse', 'respiration',\n",
       "       'secondarydiagnosisnonicd9', 'discharged', 'facid', 'lengthofstay',\n",
       "       'numberofissues'],\n",
       "      dtype='object')"
      ]
     },
     "execution_count": 38,
     "metadata": {},
     "output_type": "execute_result"
    }
   ],
   "source": [
    "# Feature importance plot\n",
    "#Feature importance plot: Illustrates the importance of each feature in making predictions. It helps to identify which features have the most influence on the model's predictions. This information can be valuable for feature selection, model understanding, and potentially improving the model's performance.\n",
    "\n",
    "feature_importance = xgb_regressor.feature_importances_\n",
    "sorted_idx = feature_importance.argsort()\n",
    "plt.figure(figsize=(10, 6))\n",
    "plt.barh(x_train_encoded.columns[sorted_idx], feature_importance[sorted_idx])\n",
    "plt.title('Feature Importance')\n",
    "plt.xlabel('Importance')\n",
    "plt.ylabel('Features')\n",
    "plt.show()"
   ]
  },
  {
   "cell_type": "code",
   "execution_count": null,
   "id": "6fb54ec3-a099-4c31-9ad7-7dbafe0a9678",
   "metadata": {},
   "outputs": [],
   "source": []
  }
 ],
 "metadata": {
  "kernelspec": {
   "display_name": "Python 3 (ipykernel)",
   "language": "python",
   "name": "python3"
  },
  "language_info": {
   "codemirror_mode": {
    "name": "ipython",
    "version": 3
   },
   "file_extension": ".py",
   "mimetype": "text/x-python",
   "name": "python",
   "nbconvert_exporter": "python",
   "pygments_lexer": "ipython3",
   "version": "3.12.1"
  },
  "papermill": {
   "default_parameters": {},
   "duration": 57.742045,
   "end_time": "2022-10-27T12:28:54.967982",
   "environment_variables": {},
   "exception": null,
   "input_path": "__notebook__.ipynb",
   "output_path": "__notebook__.ipynb",
   "parameters": {},
   "start_time": "2022-10-27T12:27:57.225937",
   "version": "2.3.4"
  }
 },
 "nbformat": 4,
 "nbformat_minor": 5
}
