{
 "cells": [
  {
   "cell_type": "markdown",
   "id": "8f05158a",
   "metadata": {
    "papermill": {
     "duration": 0.006635,
     "end_time": "2022-10-27T12:28:05.385537",
     "exception": false,
     "start_time": "2022-10-27T12:28:05.378902",
     "status": "completed"
    },
    "tags": []
   },
   "source": [
    "# Hospital Length of Stay Prediction \n",
    "\n",
    "This notebook explores the task of predicting the length of hospital stay based on demographic and medical information about patients. The following dataset is used: \n",
    "\n",
    "https://microsoft.github.io/r-server-hospital-length-of-stay/input_data.html"
   ]
  },
  {
   "cell_type": "markdown",
   "id": "3e84b4a8",
   "metadata": {
    "papermill": {
     "duration": 0.005018,
     "end_time": "2022-10-27T12:28:05.395394",
     "exception": false,
     "start_time": "2022-10-27T12:28:05.390376",
     "status": "completed"
    },
    "tags": []
   },
   "source": [
    "## 0. Setup "
   ]
  },
  {
   "cell_type": "code",
   "execution_count": 2,
   "id": "a734094d",
   "metadata": {
    "papermill": {
     "duration": 27.294085,
     "end_time": "2022-10-27T12:28:32.694021",
     "exception": false,
     "start_time": "2022-10-27T12:28:05.399936",
     "status": "completed"
    },
    "scrolled": true,
    "tags": []
   },
   "outputs": [],
   "source": [
    "# !pip install gradio\n",
    "# !pip install shap"
   ]
  },
  {
   "cell_type": "code",
   "execution_count": 3,
   "id": "54f7bf94",
   "metadata": {
    "papermill": {
     "duration": 7.383898,
     "end_time": "2022-10-27T12:28:40.086875",
     "exception": false,
     "start_time": "2022-10-27T12:28:32.702977",
     "status": "completed"
    },
    "tags": []
   },
   "outputs": [],
   "source": [
    "# imports \n",
    "import pandas as pd\n",
    "import gradio as gr \n",
    "import numpy as np\n",
    "import matplotlib.pyplot as plt\n",
    "import shap\n",
    "from lightgbm import LGBMRegressor, plot_importance\n",
    "from sklearn.model_selection import train_test_split,GridSearchCV\n",
    "from sklearn.metrics import r2_score\n",
    "from sklearn.preprocessing import LabelEncoder, StandardScaler, OneHotEncoder\n",
    "from sklearn.compose import ColumnTransformer\n",
    "from sklearn.pipeline import make_pipeline"
   ]
  },
  {
   "cell_type": "code",
   "execution_count": 4,
   "id": "29a798a8",
   "metadata": {
    "papermill": {
     "duration": 0.391569,
     "end_time": "2022-10-27T12:28:40.487478",
     "exception": false,
     "start_time": "2022-10-27T12:28:40.095909",
     "status": "completed"
    },
    "tags": []
   },
   "outputs": [
    {
     "name": "stdout",
     "output_type": "stream",
     "text": [
      "(100000, 28)\n"
     ]
    },
    {
     "data": {
      "text/plain": [
       "Index(['eid', 'vdate', 'rcount', 'gender', 'dialysisrenalendstage', 'asthma',\n",
       "       'irondef', 'pneum', 'substancedependence', 'psychologicaldisordermajor',\n",
       "       'depress', 'psychother', 'fibrosisandother', 'malnutrition', 'hemo',\n",
       "       'hematocrit', 'neutrophils', 'sodium', 'glucose', 'bloodureanitro',\n",
       "       'creatinine', 'bmi', 'pulse', 'respiration',\n",
       "       'secondarydiagnosisnonicd9', 'discharged', 'facid', 'lengthofstay'],\n",
       "      dtype='object')"
      ]
     },
     "execution_count": 4,
     "metadata": {},
     "output_type": "execute_result"
    }
   ],
   "source": [
    "# read in dataset\n",
    "df = pd.read_csv('LengthOfStay.csv')\n",
    "\n",
    "# Assuming your dataset is stored in a DataFrame called df\n",
    "# Duplicate rows in the DataFrame to increase its size to 10,000\n",
    "\"\"\"multiplier = 10  # Adjusted multiplier to increase the rows\n",
    "df = pd.concat([df] * multiplier, ignore_index=True)\n",
    "\n",
    "# If the original DataFrame has less than 10,000 rows, you may want to adjust the multiplier accordingly\n",
    "remaining_rows = 10000 - len(df)\n",
    "if remaining_rows > 0:\n",
    "    additional_df = df.sample(n=remaining_rows, replace=True)\n",
    "    df = pd.concat([df, additional_df], ignore_index=True)\n",
    "\n",
    "# Now, df has 10,000 rows and 26 columns\"\"\"\n",
    "print(df.shape)\n",
    "df.columns"
   ]
  },
  {
   "cell_type": "code",
   "execution_count": 5,
   "id": "b0bf6a94-c186-4775-93a7-93e128b3f294",
   "metadata": {},
   "outputs": [
    {
     "data": {
      "text/html": [
       "<div>\n",
       "<style scoped>\n",
       "    .dataframe tbody tr th:only-of-type {\n",
       "        vertical-align: middle;\n",
       "    }\n",
       "\n",
       "    .dataframe tbody tr th {\n",
       "        vertical-align: top;\n",
       "    }\n",
       "\n",
       "    .dataframe thead th {\n",
       "        text-align: right;\n",
       "    }\n",
       "</style>\n",
       "<table border=\"1\" class=\"dataframe\">\n",
       "  <thead>\n",
       "    <tr style=\"text-align: right;\">\n",
       "      <th></th>\n",
       "      <th>eid</th>\n",
       "      <th>vdate</th>\n",
       "      <th>rcount</th>\n",
       "      <th>gender</th>\n",
       "      <th>dialysisrenalendstage</th>\n",
       "      <th>asthma</th>\n",
       "      <th>irondef</th>\n",
       "      <th>pneum</th>\n",
       "      <th>substancedependence</th>\n",
       "      <th>psychologicaldisordermajor</th>\n",
       "      <th>...</th>\n",
       "      <th>glucose</th>\n",
       "      <th>bloodureanitro</th>\n",
       "      <th>creatinine</th>\n",
       "      <th>bmi</th>\n",
       "      <th>pulse</th>\n",
       "      <th>respiration</th>\n",
       "      <th>secondarydiagnosisnonicd9</th>\n",
       "      <th>discharged</th>\n",
       "      <th>facid</th>\n",
       "      <th>lengthofstay</th>\n",
       "    </tr>\n",
       "  </thead>\n",
       "  <tbody>\n",
       "    <tr>\n",
       "      <th>0</th>\n",
       "      <td>1</td>\n",
       "      <td>8/29/2012</td>\n",
       "      <td>0</td>\n",
       "      <td>F</td>\n",
       "      <td>0</td>\n",
       "      <td>0</td>\n",
       "      <td>0</td>\n",
       "      <td>0</td>\n",
       "      <td>0</td>\n",
       "      <td>0</td>\n",
       "      <td>...</td>\n",
       "      <td>192.476918</td>\n",
       "      <td>12.0</td>\n",
       "      <td>1.390722</td>\n",
       "      <td>30.432418</td>\n",
       "      <td>96</td>\n",
       "      <td>6.5</td>\n",
       "      <td>4</td>\n",
       "      <td>9/1/2012</td>\n",
       "      <td>B</td>\n",
       "      <td>3</td>\n",
       "    </tr>\n",
       "    <tr>\n",
       "      <th>1</th>\n",
       "      <td>2</td>\n",
       "      <td>5/26/2012</td>\n",
       "      <td>5+</td>\n",
       "      <td>F</td>\n",
       "      <td>0</td>\n",
       "      <td>0</td>\n",
       "      <td>0</td>\n",
       "      <td>0</td>\n",
       "      <td>0</td>\n",
       "      <td>0</td>\n",
       "      <td>...</td>\n",
       "      <td>94.078507</td>\n",
       "      <td>8.0</td>\n",
       "      <td>0.943164</td>\n",
       "      <td>28.460516</td>\n",
       "      <td>61</td>\n",
       "      <td>6.5</td>\n",
       "      <td>1</td>\n",
       "      <td>6/2/2012</td>\n",
       "      <td>A</td>\n",
       "      <td>7</td>\n",
       "    </tr>\n",
       "    <tr>\n",
       "      <th>2</th>\n",
       "      <td>3</td>\n",
       "      <td>9/22/2012</td>\n",
       "      <td>1</td>\n",
       "      <td>F</td>\n",
       "      <td>0</td>\n",
       "      <td>0</td>\n",
       "      <td>0</td>\n",
       "      <td>0</td>\n",
       "      <td>0</td>\n",
       "      <td>0</td>\n",
       "      <td>...</td>\n",
       "      <td>130.530524</td>\n",
       "      <td>12.0</td>\n",
       "      <td>1.065750</td>\n",
       "      <td>28.843812</td>\n",
       "      <td>64</td>\n",
       "      <td>6.5</td>\n",
       "      <td>2</td>\n",
       "      <td>9/25/2012</td>\n",
       "      <td>B</td>\n",
       "      <td>3</td>\n",
       "    </tr>\n",
       "    <tr>\n",
       "      <th>3</th>\n",
       "      <td>4</td>\n",
       "      <td>8/9/2012</td>\n",
       "      <td>0</td>\n",
       "      <td>F</td>\n",
       "      <td>0</td>\n",
       "      <td>0</td>\n",
       "      <td>0</td>\n",
       "      <td>0</td>\n",
       "      <td>0</td>\n",
       "      <td>0</td>\n",
       "      <td>...</td>\n",
       "      <td>163.377028</td>\n",
       "      <td>12.0</td>\n",
       "      <td>0.906862</td>\n",
       "      <td>27.959007</td>\n",
       "      <td>76</td>\n",
       "      <td>6.5</td>\n",
       "      <td>1</td>\n",
       "      <td>8/10/2012</td>\n",
       "      <td>A</td>\n",
       "      <td>1</td>\n",
       "    </tr>\n",
       "    <tr>\n",
       "      <th>4</th>\n",
       "      <td>5</td>\n",
       "      <td>12/20/2012</td>\n",
       "      <td>0</td>\n",
       "      <td>F</td>\n",
       "      <td>0</td>\n",
       "      <td>0</td>\n",
       "      <td>0</td>\n",
       "      <td>1</td>\n",
       "      <td>0</td>\n",
       "      <td>1</td>\n",
       "      <td>...</td>\n",
       "      <td>94.886654</td>\n",
       "      <td>11.5</td>\n",
       "      <td>1.242854</td>\n",
       "      <td>30.258927</td>\n",
       "      <td>67</td>\n",
       "      <td>5.6</td>\n",
       "      <td>2</td>\n",
       "      <td>12/24/2012</td>\n",
       "      <td>E</td>\n",
       "      <td>4</td>\n",
       "    </tr>\n",
       "    <tr>\n",
       "      <th>...</th>\n",
       "      <td>...</td>\n",
       "      <td>...</td>\n",
       "      <td>...</td>\n",
       "      <td>...</td>\n",
       "      <td>...</td>\n",
       "      <td>...</td>\n",
       "      <td>...</td>\n",
       "      <td>...</td>\n",
       "      <td>...</td>\n",
       "      <td>...</td>\n",
       "      <td>...</td>\n",
       "      <td>...</td>\n",
       "      <td>...</td>\n",
       "      <td>...</td>\n",
       "      <td>...</td>\n",
       "      <td>...</td>\n",
       "      <td>...</td>\n",
       "      <td>...</td>\n",
       "      <td>...</td>\n",
       "      <td>...</td>\n",
       "      <td>...</td>\n",
       "    </tr>\n",
       "    <tr>\n",
       "      <th>99995</th>\n",
       "      <td>99996</td>\n",
       "      <td>1/28/2012</td>\n",
       "      <td>3</td>\n",
       "      <td>M</td>\n",
       "      <td>0</td>\n",
       "      <td>0</td>\n",
       "      <td>0</td>\n",
       "      <td>0</td>\n",
       "      <td>0</td>\n",
       "      <td>0</td>\n",
       "      <td>...</td>\n",
       "      <td>171.422555</td>\n",
       "      <td>12.0</td>\n",
       "      <td>0.650323</td>\n",
       "      <td>30.063069</td>\n",
       "      <td>80</td>\n",
       "      <td>6.5</td>\n",
       "      <td>1</td>\n",
       "      <td>2/3/2012</td>\n",
       "      <td>B</td>\n",
       "      <td>6</td>\n",
       "    </tr>\n",
       "    <tr>\n",
       "      <th>99996</th>\n",
       "      <td>99997</td>\n",
       "      <td>8/6/2012</td>\n",
       "      <td>0</td>\n",
       "      <td>M</td>\n",
       "      <td>0</td>\n",
       "      <td>0</td>\n",
       "      <td>0</td>\n",
       "      <td>0</td>\n",
       "      <td>0</td>\n",
       "      <td>0</td>\n",
       "      <td>...</td>\n",
       "      <td>122.342450</td>\n",
       "      <td>12.0</td>\n",
       "      <td>1.521424</td>\n",
       "      <td>28.969548</td>\n",
       "      <td>61</td>\n",
       "      <td>6.5</td>\n",
       "      <td>1</td>\n",
       "      <td>8/7/2012</td>\n",
       "      <td>B</td>\n",
       "      <td>1</td>\n",
       "    </tr>\n",
       "    <tr>\n",
       "      <th>99997</th>\n",
       "      <td>99998</td>\n",
       "      <td>7/23/2012</td>\n",
       "      <td>1</td>\n",
       "      <td>M</td>\n",
       "      <td>0</td>\n",
       "      <td>0</td>\n",
       "      <td>1</td>\n",
       "      <td>0</td>\n",
       "      <td>0</td>\n",
       "      <td>0</td>\n",
       "      <td>...</td>\n",
       "      <td>108.288106</td>\n",
       "      <td>12.0</td>\n",
       "      <td>1.025677</td>\n",
       "      <td>26.354919</td>\n",
       "      <td>61</td>\n",
       "      <td>6.9</td>\n",
       "      <td>1</td>\n",
       "      <td>7/27/2012</td>\n",
       "      <td>C</td>\n",
       "      <td>4</td>\n",
       "    </tr>\n",
       "    <tr>\n",
       "      <th>99998</th>\n",
       "      <td>99999</td>\n",
       "      <td>12/19/2012</td>\n",
       "      <td>0</td>\n",
       "      <td>M</td>\n",
       "      <td>0</td>\n",
       "      <td>0</td>\n",
       "      <td>0</td>\n",
       "      <td>0</td>\n",
       "      <td>0</td>\n",
       "      <td>0</td>\n",
       "      <td>...</td>\n",
       "      <td>111.750731</td>\n",
       "      <td>16.0</td>\n",
       "      <td>1.035400</td>\n",
       "      <td>29.193462</td>\n",
       "      <td>59</td>\n",
       "      <td>5.6</td>\n",
       "      <td>1</td>\n",
       "      <td>12/23/2012</td>\n",
       "      <td>B</td>\n",
       "      <td>4</td>\n",
       "    </tr>\n",
       "    <tr>\n",
       "      <th>99999</th>\n",
       "      <td>100000</td>\n",
       "      <td>3/6/2012</td>\n",
       "      <td>0</td>\n",
       "      <td>F</td>\n",
       "      <td>0</td>\n",
       "      <td>0</td>\n",
       "      <td>0</td>\n",
       "      <td>0</td>\n",
       "      <td>0</td>\n",
       "      <td>0</td>\n",
       "      <td>...</td>\n",
       "      <td>149.572205</td>\n",
       "      <td>12.0</td>\n",
       "      <td>0.813004</td>\n",
       "      <td>25.175760</td>\n",
       "      <td>74</td>\n",
       "      <td>6.5</td>\n",
       "      <td>4</td>\n",
       "      <td>3/8/2012</td>\n",
       "      <td>B</td>\n",
       "      <td>2</td>\n",
       "    </tr>\n",
       "  </tbody>\n",
       "</table>\n",
       "<p>100000 rows × 28 columns</p>\n",
       "</div>"
      ],
      "text/plain": [
       "          eid       vdate rcount gender  dialysisrenalendstage  asthma  \\\n",
       "0           1   8/29/2012      0      F                      0       0   \n",
       "1           2   5/26/2012     5+      F                      0       0   \n",
       "2           3   9/22/2012      1      F                      0       0   \n",
       "3           4    8/9/2012      0      F                      0       0   \n",
       "4           5  12/20/2012      0      F                      0       0   \n",
       "...       ...         ...    ...    ...                    ...     ...   \n",
       "99995   99996   1/28/2012      3      M                      0       0   \n",
       "99996   99997    8/6/2012      0      M                      0       0   \n",
       "99997   99998   7/23/2012      1      M                      0       0   \n",
       "99998   99999  12/19/2012      0      M                      0       0   \n",
       "99999  100000    3/6/2012      0      F                      0       0   \n",
       "\n",
       "       irondef  pneum  substancedependence  psychologicaldisordermajor  ...  \\\n",
       "0            0      0                    0                           0  ...   \n",
       "1            0      0                    0                           0  ...   \n",
       "2            0      0                    0                           0  ...   \n",
       "3            0      0                    0                           0  ...   \n",
       "4            0      1                    0                           1  ...   \n",
       "...        ...    ...                  ...                         ...  ...   \n",
       "99995        0      0                    0                           0  ...   \n",
       "99996        0      0                    0                           0  ...   \n",
       "99997        1      0                    0                           0  ...   \n",
       "99998        0      0                    0                           0  ...   \n",
       "99999        0      0                    0                           0  ...   \n",
       "\n",
       "          glucose  bloodureanitro  creatinine        bmi  pulse  respiration  \\\n",
       "0      192.476918            12.0    1.390722  30.432418     96          6.5   \n",
       "1       94.078507             8.0    0.943164  28.460516     61          6.5   \n",
       "2      130.530524            12.0    1.065750  28.843812     64          6.5   \n",
       "3      163.377028            12.0    0.906862  27.959007     76          6.5   \n",
       "4       94.886654            11.5    1.242854  30.258927     67          5.6   \n",
       "...           ...             ...         ...        ...    ...          ...   \n",
       "99995  171.422555            12.0    0.650323  30.063069     80          6.5   \n",
       "99996  122.342450            12.0    1.521424  28.969548     61          6.5   \n",
       "99997  108.288106            12.0    1.025677  26.354919     61          6.9   \n",
       "99998  111.750731            16.0    1.035400  29.193462     59          5.6   \n",
       "99999  149.572205            12.0    0.813004  25.175760     74          6.5   \n",
       "\n",
       "       secondarydiagnosisnonicd9  discharged  facid  lengthofstay  \n",
       "0                              4    9/1/2012      B             3  \n",
       "1                              1    6/2/2012      A             7  \n",
       "2                              2   9/25/2012      B             3  \n",
       "3                              1   8/10/2012      A             1  \n",
       "4                              2  12/24/2012      E             4  \n",
       "...                          ...         ...    ...           ...  \n",
       "99995                          1    2/3/2012      B             6  \n",
       "99996                          1    8/7/2012      B             1  \n",
       "99997                          1   7/27/2012      C             4  \n",
       "99998                          1  12/23/2012      B             4  \n",
       "99999                          4    3/8/2012      B             2  \n",
       "\n",
       "[100000 rows x 28 columns]"
      ]
     },
     "execution_count": 5,
     "metadata": {},
     "output_type": "execute_result"
    }
   ],
   "source": [
    "df"
   ]
  },
  {
   "cell_type": "code",
   "execution_count": 6,
   "id": "4d9fdd56",
   "metadata": {
    "papermill": {
     "duration": 0.059423,
     "end_time": "2022-10-27T12:28:40.555164",
     "exception": false,
     "start_time": "2022-10-27T12:28:40.495741",
     "status": "completed"
    },
    "tags": []
   },
   "outputs": [
    {
     "name": "stdout",
     "output_type": "stream",
     "text": [
      "<class 'pandas.core.frame.DataFrame'>\n",
      "RangeIndex: 100000 entries, 0 to 99999\n",
      "Data columns (total 28 columns):\n",
      " #   Column                      Non-Null Count   Dtype  \n",
      "---  ------                      --------------   -----  \n",
      " 0   eid                         100000 non-null  int64  \n",
      " 1   vdate                       100000 non-null  object \n",
      " 2   rcount                      100000 non-null  object \n",
      " 3   gender                      100000 non-null  object \n",
      " 4   dialysisrenalendstage       100000 non-null  int64  \n",
      " 5   asthma                      100000 non-null  int64  \n",
      " 6   irondef                     100000 non-null  int64  \n",
      " 7   pneum                       100000 non-null  int64  \n",
      " 8   substancedependence         100000 non-null  int64  \n",
      " 9   psychologicaldisordermajor  100000 non-null  int64  \n",
      " 10  depress                     100000 non-null  int64  \n",
      " 11  psychother                  100000 non-null  int64  \n",
      " 12  fibrosisandother            100000 non-null  int64  \n",
      " 13  malnutrition                100000 non-null  int64  \n",
      " 14  hemo                        100000 non-null  int64  \n",
      " 15  hematocrit                  100000 non-null  float64\n",
      " 16  neutrophils                 100000 non-null  float64\n",
      " 17  sodium                      100000 non-null  float64\n",
      " 18  glucose                     100000 non-null  float64\n",
      " 19  bloodureanitro              100000 non-null  float64\n",
      " 20  creatinine                  100000 non-null  float64\n",
      " 21  bmi                         100000 non-null  float64\n",
      " 22  pulse                       100000 non-null  int64  \n",
      " 23  respiration                 100000 non-null  float64\n",
      " 24  secondarydiagnosisnonicd9   100000 non-null  int64  \n",
      " 25  discharged                  100000 non-null  object \n",
      " 26  facid                       100000 non-null  object \n",
      " 27  lengthofstay                100000 non-null  int64  \n",
      "dtypes: float64(8), int64(15), object(5)\n",
      "memory usage: 21.4+ MB\n"
     ]
    }
   ],
   "source": [
    "df.info()"
   ]
  },
  {
   "cell_type": "code",
   "execution_count": 7,
   "id": "a55256ea",
   "metadata": {
    "papermill": {
     "duration": 0.225566,
     "end_time": "2022-10-27T12:28:40.790229",
     "exception": false,
     "start_time": "2022-10-27T12:28:40.564663",
     "status": "completed"
    },
    "scrolled": true,
    "tags": []
   },
   "outputs": [
    {
     "data": {
      "text/plain": [
       "eid\n",
       "1         1\n",
       "66651     1\n",
       "66673     1\n",
       "66672     1\n",
       "66671     1\n",
       "         ..\n",
       "33332     1\n",
       "33331     1\n",
       "33330     1\n",
       "33329     1\n",
       "100000    1\n",
       "Name: count, Length: 100000, dtype: int64"
      ]
     },
     "metadata": {},
     "output_type": "display_data"
    },
    {
     "data": {
      "text/plain": [
       "vdate\n",
       "10/3/2012     333\n",
       "6/14/2012     324\n",
       "11/11/2012    324\n",
       "9/27/2012     317\n",
       "2/22/2012     315\n",
       "             ... \n",
       "1/11/2012     230\n",
       "7/6/2012      229\n",
       "4/11/2012     227\n",
       "12/1/2012     214\n",
       "3/20/2012     212\n",
       "Name: count, Length: 367, dtype: int64"
      ]
     },
     "metadata": {},
     "output_type": "display_data"
    },
    {
     "data": {
      "text/plain": [
       "rcount\n",
       "0     55031\n",
       "1     15007\n",
       "2      9987\n",
       "3      8047\n",
       "4      6941\n",
       "5+     4987\n",
       "Name: count, dtype: int64"
      ]
     },
     "metadata": {},
     "output_type": "display_data"
    },
    {
     "data": {
      "text/plain": [
       "gender\n",
       "F    57643\n",
       "M    42357\n",
       "Name: count, dtype: int64"
      ]
     },
     "metadata": {},
     "output_type": "display_data"
    },
    {
     "data": {
      "text/plain": [
       "dialysisrenalendstage\n",
       "0    96358\n",
       "1     3642\n",
       "Name: count, dtype: int64"
      ]
     },
     "metadata": {},
     "output_type": "display_data"
    },
    {
     "data": {
      "text/plain": [
       "asthma\n",
       "0    96473\n",
       "1     3527\n",
       "Name: count, dtype: int64"
      ]
     },
     "metadata": {},
     "output_type": "display_data"
    },
    {
     "data": {
      "text/plain": [
       "irondef\n",
       "0    90506\n",
       "1     9494\n",
       "Name: count, dtype: int64"
      ]
     },
     "metadata": {},
     "output_type": "display_data"
    },
    {
     "data": {
      "text/plain": [
       "pneum\n",
       "0    96055\n",
       "1     3945\n",
       "Name: count, dtype: int64"
      ]
     },
     "metadata": {},
     "output_type": "display_data"
    },
    {
     "data": {
      "text/plain": [
       "substancedependence\n",
       "0    93694\n",
       "1     6306\n",
       "Name: count, dtype: int64"
      ]
     },
     "metadata": {},
     "output_type": "display_data"
    },
    {
     "data": {
      "text/plain": [
       "psychologicaldisordermajor\n",
       "0    76096\n",
       "1    23904\n",
       "Name: count, dtype: int64"
      ]
     },
     "metadata": {},
     "output_type": "display_data"
    },
    {
     "data": {
      "text/plain": [
       "depress\n",
       "0    94834\n",
       "1     5166\n",
       "Name: count, dtype: int64"
      ]
     },
     "metadata": {},
     "output_type": "display_data"
    },
    {
     "data": {
      "text/plain": [
       "psychother\n",
       "0    95061\n",
       "1     4939\n",
       "Name: count, dtype: int64"
      ]
     },
     "metadata": {},
     "output_type": "display_data"
    },
    {
     "data": {
      "text/plain": [
       "fibrosisandother\n",
       "0    99521\n",
       "1      479\n",
       "Name: count, dtype: int64"
      ]
     },
     "metadata": {},
     "output_type": "display_data"
    },
    {
     "data": {
      "text/plain": [
       "malnutrition\n",
       "0    95052\n",
       "1     4948\n",
       "Name: count, dtype: int64"
      ]
     },
     "metadata": {},
     "output_type": "display_data"
    },
    {
     "data": {
      "text/plain": [
       "hemo\n",
       "0    92000\n",
       "1     8000\n",
       "Name: count, dtype: int64"
      ]
     },
     "metadata": {},
     "output_type": "display_data"
    },
    {
     "data": {
      "text/plain": [
       "hematocrit\n",
       "11.900000    20179\n",
       "12.000000     4866\n",
       "11.600000     1550\n",
       "11.800000     1516\n",
       "12.100000     1509\n",
       "             ...  \n",
       "10.466667        3\n",
       "6.750000         3\n",
       "7.866667         3\n",
       "11.033333        3\n",
       "12.533333        2\n",
       "Name: count, Length: 362, dtype: int64"
      ]
     },
     "metadata": {},
     "output_type": "display_data"
    },
    {
     "data": {
      "text/plain": [
       "neutrophils\n",
       "9.400000     19719\n",
       "9.300000      4248\n",
       "6.900000       912\n",
       "7.300000       872\n",
       "8.100000       871\n",
       "             ...  \n",
       "20.833333        2\n",
       "38.000000        2\n",
       "10.533333        2\n",
       "37.900000        2\n",
       "3.066667         2\n",
       "Name: count, Length: 656, dtype: int64"
      ]
     },
     "metadata": {},
     "output_type": "display_data"
    },
    {
     "data": {
      "text/plain": [
       "sodium\n",
       "136.210150    2\n",
       "141.642479    2\n",
       "136.556976    2\n",
       "138.311247    2\n",
       "134.454042    2\n",
       "             ..\n",
       "138.991515    1\n",
       "138.960912    1\n",
       "136.767861    1\n",
       "135.010558    1\n",
       "140.950137    1\n",
       "Name: count, Length: 99948, dtype: int64"
      ]
     },
     "metadata": {},
     "output_type": "display_data"
    },
    {
     "data": {
      "text/plain": [
       "glucose\n",
       "148.470465    2\n",
       "129.720211    2\n",
       "192.476918    1\n",
       "101.901810    1\n",
       "127.227144    1\n",
       "             ..\n",
       "126.497136    1\n",
       "134.358082    1\n",
       "134.633990    1\n",
       "153.441931    1\n",
       "149.572205    1\n",
       "Name: count, Length: 99998, dtype: int64"
      ]
     },
     "metadata": {},
     "output_type": "display_data"
    },
    {
     "data": {
      "text/plain": [
       "bloodureanitro\n",
       "12.000000     45404\n",
       "9.000000       4120\n",
       "10.000000      3913\n",
       "11.000000      3722\n",
       "13.000000      3469\n",
       "              ...  \n",
       "62.500000         3\n",
       "103.000000        3\n",
       "41.500000         3\n",
       "6.142857          3\n",
       "474.000000        2\n",
       "Name: count, Length: 261, dtype: int64"
      ]
     },
     "metadata": {},
     "output_type": "display_data"
    },
    {
     "data": {
      "text/plain": [
       "creatinine\n",
       "1.187913    2\n",
       "0.927038    2\n",
       "1.211433    2\n",
       "1.142182    2\n",
       "0.896881    2\n",
       "           ..\n",
       "1.210521    1\n",
       "1.302881    1\n",
       "0.993664    1\n",
       "1.261767    1\n",
       "0.813004    1\n",
       "Name: count, Length: 99994, dtype: int64"
      ]
     },
     "metadata": {},
     "output_type": "display_data"
    },
    {
     "data": {
      "text/plain": [
       "bmi\n",
       "27.843315    2\n",
       "28.844062    2\n",
       "28.618775    2\n",
       "30.322514    2\n",
       "29.184922    2\n",
       "            ..\n",
       "29.859199    1\n",
       "30.567566    1\n",
       "30.002190    1\n",
       "31.014736    1\n",
       "25.175760    1\n",
       "Name: count, Length: 99994, dtype: int64"
      ]
     },
     "metadata": {},
     "output_type": "display_data"
    },
    {
     "data": {
      "text/plain": [
       "pulse\n",
       "71     3480\n",
       "73     3384\n",
       "72     3373\n",
       "75     3371\n",
       "74     3366\n",
       "       ... \n",
       "126       1\n",
       "25        1\n",
       "23        1\n",
       "130       1\n",
       "120       1\n",
       "Name: count, Length: 100, dtype: int64"
      ]
     },
     "metadata": {},
     "output_type": "display_data"
    },
    {
     "data": {
      "text/plain": [
       "respiration\n",
       "6.500000    64833\n",
       "6.400000     1524\n",
       "6.200000     1498\n",
       "6.600000     1473\n",
       "6.900000     1449\n",
       "            ...  \n",
       "2.800000        3\n",
       "1.600000        3\n",
       "5.575000        2\n",
       "6.166667        2\n",
       "5.933333        2\n",
       "Name: count, Length: 160, dtype: int64"
      ]
     },
     "metadata": {},
     "output_type": "display_data"
    },
    {
     "data": {
      "text/plain": [
       "secondarydiagnosisnonicd9\n",
       "1     50029\n",
       "0     10090\n",
       "2      9782\n",
       "3      9020\n",
       "4      8990\n",
       "5      3987\n",
       "6      3086\n",
       "7      1960\n",
       "10     1049\n",
       "8      1006\n",
       "9      1001\n",
       "Name: count, dtype: int64"
      ]
     },
     "metadata": {},
     "output_type": "display_data"
    },
    {
     "data": {
      "text/plain": [
       "discharged\n",
       "2/16/2012     316\n",
       "6/19/2012     315\n",
       "10/25/2012    315\n",
       "3/9/2012      313\n",
       "10/28/2012    312\n",
       "             ... \n",
       "1/9/2013       23\n",
       "1/10/2013       7\n",
       "1/12/2013       2\n",
       "1/11/2013       2\n",
       "1/13/2013       1\n",
       "Name: count, Length: 378, dtype: int64"
      ]
     },
     "metadata": {},
     "output_type": "display_data"
    },
    {
     "data": {
      "text/plain": [
       "facid\n",
       "E    30755\n",
       "A    30035\n",
       "B    30012\n",
       "C     4699\n",
       "D     4499\n",
       "Name: count, dtype: int64"
      ]
     },
     "metadata": {},
     "output_type": "display_data"
    },
    {
     "data": {
      "text/plain": [
       "lengthofstay\n",
       "1     17979\n",
       "3     16068\n",
       "4     14822\n",
       "2     12825\n",
       "5     12116\n",
       "6     10362\n",
       "7      7263\n",
       "8      4652\n",
       "9      2184\n",
       "10     1000\n",
       "11      460\n",
       "12      137\n",
       "13       75\n",
       "14       31\n",
       "15       16\n",
       "16        6\n",
       "17        4\n",
       "Name: count, dtype: int64"
      ]
     },
     "metadata": {},
     "output_type": "display_data"
    }
   ],
   "source": [
    "for col in df.columns: \n",
    "    display(df[col].value_counts())"
   ]
  },
  {
   "cell_type": "markdown",
   "id": "6af0fbe1",
   "metadata": {
    "papermill": {
     "duration": 0.01146,
     "end_time": "2022-10-27T12:28:40.812892",
     "exception": false,
     "start_time": "2022-10-27T12:28:40.801432",
     "status": "completed"
    },
    "tags": []
   },
   "source": [
    "## 1. Data Cleaning"
   ]
  },
  {
   "cell_type": "code",
   "execution_count": 8,
   "id": "98553b5b",
   "metadata": {
    "papermill": {
     "duration": 0.101773,
     "end_time": "2022-10-27T12:28:40.925480",
     "exception": false,
     "start_time": "2022-10-27T12:28:40.823707",
     "status": "completed"
    },
    "tags": []
   },
   "outputs": [
    {
     "data": {
      "text/html": [
       "<div>\n",
       "<style scoped>\n",
       "    .dataframe tbody tr th:only-of-type {\n",
       "        vertical-align: middle;\n",
       "    }\n",
       "\n",
       "    .dataframe tbody tr th {\n",
       "        vertical-align: top;\n",
       "    }\n",
       "\n",
       "    .dataframe thead th {\n",
       "        text-align: right;\n",
       "    }\n",
       "</style>\n",
       "<table border=\"1\" class=\"dataframe\">\n",
       "  <thead>\n",
       "    <tr style=\"text-align: right;\">\n",
       "      <th></th>\n",
       "      <th>eid</th>\n",
       "      <th>vdate</th>\n",
       "      <th>rcount</th>\n",
       "      <th>gender</th>\n",
       "      <th>dialysisrenalendstage</th>\n",
       "      <th>asthma</th>\n",
       "      <th>irondef</th>\n",
       "      <th>pneum</th>\n",
       "      <th>substancedependence</th>\n",
       "      <th>psychologicaldisordermajor</th>\n",
       "      <th>...</th>\n",
       "      <th>glucose</th>\n",
       "      <th>bloodureanitro</th>\n",
       "      <th>creatinine</th>\n",
       "      <th>bmi</th>\n",
       "      <th>pulse</th>\n",
       "      <th>respiration</th>\n",
       "      <th>secondarydiagnosisnonicd9</th>\n",
       "      <th>discharged</th>\n",
       "      <th>facid</th>\n",
       "      <th>lengthofstay</th>\n",
       "    </tr>\n",
       "  </thead>\n",
       "  <tbody>\n",
       "    <tr>\n",
       "      <th>0</th>\n",
       "      <td>1</td>\n",
       "      <td>8/29/2012</td>\n",
       "      <td>0</td>\n",
       "      <td>F</td>\n",
       "      <td>0</td>\n",
       "      <td>0</td>\n",
       "      <td>0</td>\n",
       "      <td>0</td>\n",
       "      <td>0</td>\n",
       "      <td>0</td>\n",
       "      <td>...</td>\n",
       "      <td>192.476918</td>\n",
       "      <td>12.0</td>\n",
       "      <td>1.390722</td>\n",
       "      <td>30.432418</td>\n",
       "      <td>96</td>\n",
       "      <td>6.5</td>\n",
       "      <td>4</td>\n",
       "      <td>9/1/2012</td>\n",
       "      <td>B</td>\n",
       "      <td>3</td>\n",
       "    </tr>\n",
       "    <tr>\n",
       "      <th>1</th>\n",
       "      <td>2</td>\n",
       "      <td>5/26/2012</td>\n",
       "      <td>5+</td>\n",
       "      <td>F</td>\n",
       "      <td>0</td>\n",
       "      <td>0</td>\n",
       "      <td>0</td>\n",
       "      <td>0</td>\n",
       "      <td>0</td>\n",
       "      <td>0</td>\n",
       "      <td>...</td>\n",
       "      <td>94.078507</td>\n",
       "      <td>8.0</td>\n",
       "      <td>0.943164</td>\n",
       "      <td>28.460516</td>\n",
       "      <td>61</td>\n",
       "      <td>6.5</td>\n",
       "      <td>1</td>\n",
       "      <td>6/2/2012</td>\n",
       "      <td>A</td>\n",
       "      <td>7</td>\n",
       "    </tr>\n",
       "    <tr>\n",
       "      <th>2</th>\n",
       "      <td>3</td>\n",
       "      <td>9/22/2012</td>\n",
       "      <td>1</td>\n",
       "      <td>F</td>\n",
       "      <td>0</td>\n",
       "      <td>0</td>\n",
       "      <td>0</td>\n",
       "      <td>0</td>\n",
       "      <td>0</td>\n",
       "      <td>0</td>\n",
       "      <td>...</td>\n",
       "      <td>130.530524</td>\n",
       "      <td>12.0</td>\n",
       "      <td>1.065750</td>\n",
       "      <td>28.843812</td>\n",
       "      <td>64</td>\n",
       "      <td>6.5</td>\n",
       "      <td>2</td>\n",
       "      <td>9/25/2012</td>\n",
       "      <td>B</td>\n",
       "      <td>3</td>\n",
       "    </tr>\n",
       "    <tr>\n",
       "      <th>3</th>\n",
       "      <td>4</td>\n",
       "      <td>8/9/2012</td>\n",
       "      <td>0</td>\n",
       "      <td>F</td>\n",
       "      <td>0</td>\n",
       "      <td>0</td>\n",
       "      <td>0</td>\n",
       "      <td>0</td>\n",
       "      <td>0</td>\n",
       "      <td>0</td>\n",
       "      <td>...</td>\n",
       "      <td>163.377028</td>\n",
       "      <td>12.0</td>\n",
       "      <td>0.906862</td>\n",
       "      <td>27.959007</td>\n",
       "      <td>76</td>\n",
       "      <td>6.5</td>\n",
       "      <td>1</td>\n",
       "      <td>8/10/2012</td>\n",
       "      <td>A</td>\n",
       "      <td>1</td>\n",
       "    </tr>\n",
       "    <tr>\n",
       "      <th>4</th>\n",
       "      <td>5</td>\n",
       "      <td>12/20/2012</td>\n",
       "      <td>0</td>\n",
       "      <td>F</td>\n",
       "      <td>0</td>\n",
       "      <td>0</td>\n",
       "      <td>0</td>\n",
       "      <td>1</td>\n",
       "      <td>0</td>\n",
       "      <td>1</td>\n",
       "      <td>...</td>\n",
       "      <td>94.886654</td>\n",
       "      <td>11.5</td>\n",
       "      <td>1.242854</td>\n",
       "      <td>30.258927</td>\n",
       "      <td>67</td>\n",
       "      <td>5.6</td>\n",
       "      <td>2</td>\n",
       "      <td>12/24/2012</td>\n",
       "      <td>E</td>\n",
       "      <td>4</td>\n",
       "    </tr>\n",
       "  </tbody>\n",
       "</table>\n",
       "<p>5 rows × 28 columns</p>\n",
       "</div>"
      ],
      "text/plain": [
       "   eid       vdate rcount gender  dialysisrenalendstage  asthma  irondef  \\\n",
       "0    1   8/29/2012      0      F                      0       0        0   \n",
       "1    2   5/26/2012     5+      F                      0       0        0   \n",
       "2    3   9/22/2012      1      F                      0       0        0   \n",
       "3    4    8/9/2012      0      F                      0       0        0   \n",
       "4    5  12/20/2012      0      F                      0       0        0   \n",
       "\n",
       "   pneum  substancedependence  psychologicaldisordermajor  ...     glucose  \\\n",
       "0      0                    0                           0  ...  192.476918   \n",
       "1      0                    0                           0  ...   94.078507   \n",
       "2      0                    0                           0  ...  130.530524   \n",
       "3      0                    0                           0  ...  163.377028   \n",
       "4      1                    0                           1  ...   94.886654   \n",
       "\n",
       "   bloodureanitro  creatinine        bmi  pulse  respiration  \\\n",
       "0            12.0    1.390722  30.432418     96          6.5   \n",
       "1             8.0    0.943164  28.460516     61          6.5   \n",
       "2            12.0    1.065750  28.843812     64          6.5   \n",
       "3            12.0    0.906862  27.959007     76          6.5   \n",
       "4            11.5    1.242854  30.258927     67          5.6   \n",
       "\n",
       "   secondarydiagnosisnonicd9  discharged  facid  lengthofstay  \n",
       "0                          4    9/1/2012      B             3  \n",
       "1                          1    6/2/2012      A             7  \n",
       "2                          2   9/25/2012      B             3  \n",
       "3                          1   8/10/2012      A             1  \n",
       "4                          2  12/24/2012      E             4  \n",
       "\n",
       "[5 rows x 28 columns]"
      ]
     },
     "execution_count": 8,
     "metadata": {},
     "output_type": "execute_result"
    }
   ],
   "source": [
    "# type conversions \n",
    "#datetime_cols = [\"vdate\", \"discharged\"]\n",
    "cat_cols = [\"gender\", \"rcount\", \"facid\"]\n",
    "bin_cols = [\"dialysisrenalendstage\", \n",
    "            \"asthma\", \n",
    "            \"irondef\", \n",
    "            \"pneum\", \n",
    "            \"substancedependence\", \n",
    "            \"psychologicaldisordermajor\",\n",
    "            \"depress\",\n",
    "            \"psychother\",\n",
    "            \"fibrosisandother\",\n",
    "            \"malnutrition\",\n",
    "            \"hemo\"]\n",
    "num_cols = [\"hematocrit\",\n",
    "            \"neutrophils\",\n",
    "            \"sodium\",\n",
    "            \"glucose\",\n",
    "            \"creatinine\",\n",
    "            \"bmi\",\n",
    "            ]\n",
    "\n",
    "for cat_col in cat_cols: \n",
    "    df[cat_col] = df[cat_col].astype(\"category\")\n",
    "df.head()\n"
   ]
  },
  {
   "cell_type": "code",
   "execution_count": 9,
   "id": "dc9ea419-8b4d-4938-a665-2a35a417a5f9",
   "metadata": {},
   "outputs": [
    {
     "data": {
      "text/plain": [
       "rcount\n",
       "0     55031\n",
       "1     15007\n",
       "2      9987\n",
       "3      8047\n",
       "4      6941\n",
       "5+     4987\n",
       "Name: count, dtype: int64"
      ]
     },
     "execution_count": 9,
     "metadata": {},
     "output_type": "execute_result"
    }
   ],
   "source": [
    "df['rcount'].value_counts()"
   ]
  },
  {
   "cell_type": "code",
   "execution_count": 10,
   "id": "1ad4f3e2",
   "metadata": {
    "papermill": {
     "duration": 0.036651,
     "end_time": "2022-10-27T12:28:40.979762",
     "exception": false,
     "start_time": "2022-10-27T12:28:40.943111",
     "status": "completed"
    },
    "tags": []
   },
   "outputs": [
    {
     "name": "stdout",
     "output_type": "stream",
     "text": [
      "<class 'pandas.core.frame.DataFrame'>\n",
      "RangeIndex: 100000 entries, 0 to 99999\n",
      "Data columns (total 28 columns):\n",
      " #   Column                      Non-Null Count   Dtype   \n",
      "---  ------                      --------------   -----   \n",
      " 0   eid                         100000 non-null  int64   \n",
      " 1   vdate                       100000 non-null  object  \n",
      " 2   rcount                      100000 non-null  category\n",
      " 3   gender                      100000 non-null  category\n",
      " 4   dialysisrenalendstage       100000 non-null  int64   \n",
      " 5   asthma                      100000 non-null  int64   \n",
      " 6   irondef                     100000 non-null  int64   \n",
      " 7   pneum                       100000 non-null  int64   \n",
      " 8   substancedependence         100000 non-null  int64   \n",
      " 9   psychologicaldisordermajor  100000 non-null  int64   \n",
      " 10  depress                     100000 non-null  int64   \n",
      " 11  psychother                  100000 non-null  int64   \n",
      " 12  fibrosisandother            100000 non-null  int64   \n",
      " 13  malnutrition                100000 non-null  int64   \n",
      " 14  hemo                        100000 non-null  int64   \n",
      " 15  hematocrit                  100000 non-null  float64 \n",
      " 16  neutrophils                 100000 non-null  float64 \n",
      " 17  sodium                      100000 non-null  float64 \n",
      " 18  glucose                     100000 non-null  float64 \n",
      " 19  bloodureanitro              100000 non-null  float64 \n",
      " 20  creatinine                  100000 non-null  float64 \n",
      " 21  bmi                         100000 non-null  float64 \n",
      " 22  pulse                       100000 non-null  int64   \n",
      " 23  respiration                 100000 non-null  float64 \n",
      " 24  secondarydiagnosisnonicd9   100000 non-null  int64   \n",
      " 25  discharged                  100000 non-null  object  \n",
      " 26  facid                       100000 non-null  category\n",
      " 27  lengthofstay                100000 non-null  int64   \n",
      "dtypes: category(3), float64(8), int64(15), object(2)\n",
      "memory usage: 19.4+ MB\n"
     ]
    }
   ],
   "source": [
    "df.info()"
   ]
  },
  {
   "cell_type": "markdown",
   "id": "cbaee0c8",
   "metadata": {
    "papermill": {
     "duration": 0.011602,
     "end_time": "2022-10-27T12:28:41.003119",
     "exception": false,
     "start_time": "2022-10-27T12:28:40.991517",
     "status": "completed"
    },
    "tags": []
   },
   "source": [
    "## 2. Feature Engineering"
   ]
  },
  {
   "cell_type": "code",
   "execution_count": 11,
   "id": "6e9a13cd",
   "metadata": {
    "papermill": {
     "duration": 0.025961,
     "end_time": "2022-10-27T12:28:41.041316",
     "exception": false,
     "start_time": "2022-10-27T12:28:41.015355",
     "status": "completed"
    },
    "tags": []
   },
   "outputs": [],
   "source": [
    "# number_of_issues transform function\n",
    "def calculate_number_of_issues(df, bin_cols):\n",
    "    df[\"numberofissues\"] = df[bin_cols].sum(axis=1)\n",
    "    return df\n",
    "\n",
    "df = calculate_number_of_issues(df, bin_cols)"
   ]
  },
  {
   "cell_type": "markdown",
   "id": "5bdd73b5",
   "metadata": {
    "papermill": {
     "duration": 0.014389,
     "end_time": "2022-10-27T12:28:41.068147",
     "exception": false,
     "start_time": "2022-10-27T12:28:41.053758",
     "status": "completed"
    },
    "tags": []
   },
   "source": [
    "## 3. Modelling "
   ]
  },
  {
   "cell_type": "code",
   "execution_count": 12,
   "id": "afb32761",
   "metadata": {
    "papermill": {
     "duration": 0.039933,
     "end_time": "2022-10-27T12:28:41.124755",
     "exception": false,
     "start_time": "2022-10-27T12:28:41.084822",
     "status": "completed"
    },
    "tags": []
   },
   "outputs": [
    {
     "data": {
      "text/plain": [
       "lengthofstay\n",
       "1               17979\n",
       "3               16068\n",
       "4               14822\n",
       "2               12825\n",
       "5               12116\n",
       "6               10362\n",
       "7                7263\n",
       "8                4652\n",
       "9                2184\n",
       "10               1000\n",
       "11                460\n",
       "12                137\n",
       "13                 75\n",
       "14                 31\n",
       "15                 16\n",
       "16                  6\n",
       "17                  4\n",
       "Name: count, dtype: int64"
      ]
     },
     "execution_count": 12,
     "metadata": {},
     "output_type": "execute_result"
    }
   ],
   "source": [
    "labels, features = df[[\"lengthofstay\"]], df.drop([\"discharged\", \"vdate\", \"lengthofstay\",\"eid\"], axis=1)\n",
    "labels.value_counts()"
   ]
  },
  {
   "cell_type": "code",
   "execution_count": 13,
   "id": "cbda9edf",
   "metadata": {
    "papermill": {
     "duration": 0.033932,
     "end_time": "2022-10-27T12:28:41.170112",
     "exception": false,
     "start_time": "2022-10-27T12:28:41.136180",
     "status": "completed"
    },
    "tags": []
   },
   "outputs": [
    {
     "name": "stdout",
     "output_type": "stream",
     "text": [
      "<class 'pandas.core.frame.DataFrame'>\n",
      "RangeIndex: 100000 entries, 0 to 99999\n",
      "Data columns (total 25 columns):\n",
      " #   Column                      Non-Null Count   Dtype   \n",
      "---  ------                      --------------   -----   \n",
      " 0   rcount                      100000 non-null  category\n",
      " 1   gender                      100000 non-null  category\n",
      " 2   dialysisrenalendstage       100000 non-null  int64   \n",
      " 3   asthma                      100000 non-null  int64   \n",
      " 4   irondef                     100000 non-null  int64   \n",
      " 5   pneum                       100000 non-null  int64   \n",
      " 6   substancedependence         100000 non-null  int64   \n",
      " 7   psychologicaldisordermajor  100000 non-null  int64   \n",
      " 8   depress                     100000 non-null  int64   \n",
      " 9   psychother                  100000 non-null  int64   \n",
      " 10  fibrosisandother            100000 non-null  int64   \n",
      " 11  malnutrition                100000 non-null  int64   \n",
      " 12  hemo                        100000 non-null  int64   \n",
      " 13  hematocrit                  100000 non-null  float64 \n",
      " 14  neutrophils                 100000 non-null  float64 \n",
      " 15  sodium                      100000 non-null  float64 \n",
      " 16  glucose                     100000 non-null  float64 \n",
      " 17  bloodureanitro              100000 non-null  float64 \n",
      " 18  creatinine                  100000 non-null  float64 \n",
      " 19  bmi                         100000 non-null  float64 \n",
      " 20  pulse                       100000 non-null  int64   \n",
      " 21  respiration                 100000 non-null  float64 \n",
      " 22  secondarydiagnosisnonicd9   100000 non-null  int64   \n",
      " 23  facid                       100000 non-null  category\n",
      " 24  numberofissues              100000 non-null  int64   \n",
      "dtypes: category(3), float64(8), int64(14)\n",
      "memory usage: 17.1 MB\n"
     ]
    }
   ],
   "source": [
    "features.info()"
   ]
  },
  {
   "cell_type": "code",
   "execution_count": 14,
   "id": "e945c75f",
   "metadata": {
    "papermill": {
     "duration": 0.060898,
     "end_time": "2022-10-27T12:28:41.243604",
     "exception": false,
     "start_time": "2022-10-27T12:28:41.182706",
     "status": "completed"
    },
    "tags": []
   },
   "outputs": [],
   "source": [
    "x_train, x_test, y_train, y_test = train_test_split(features, labels, test_size=0.2, random_state=42)"
   ]
  },
  {
   "cell_type": "code",
   "execution_count": 15,
   "id": "e9fbbde5",
   "metadata": {
    "papermill": {
     "duration": 1.250027,
     "end_time": "2022-10-27T12:28:42.506164",
     "exception": false,
     "start_time": "2022-10-27T12:28:41.256137",
     "status": "completed"
    },
    "tags": []
   },
   "outputs": [
    {
     "data": {
      "text/plain": [
       "'from sklearn.model_selection import GridSearchCV\\n\\n# Creating a pipeline\\nregressor = make_pipeline(\\n    ColumnTransformer([\\n        (\\'num\\', StandardScaler(), num_cols),\\n        (\\'cat\\', OneHotEncoder(), cat_cols),\\n    ], remainder=\"passthrough\"),\\n    LGBMRegressor(n_jobs=-1)\\n)\\n\\n# Define the parameter grid to search\\nparam_grid = {\\n    \\'lgbmregressor__num_leaves\\': [20, 30, 40],\\n    \\'lgbmregressor__learning_rate\\': [0.05, 0.1, 0.2],\\n    \\'lgbmregressor__n_estimators\\': [50, 100, 200]\\n}\\n\\n# Perform grid search with cross-validation\\ngrid_search = GridSearchCV(regressor, param_grid, cv=5, scoring=\\'r2\\')\\ngrid_search.fit(x_train, y_train)\\n\\n# Get the best parameters and best score\\nbest_params = grid_search.best_params_\\nbest_score = grid_search.best_score_\\n\\nprint(\"Best Parameters:\", best_params)\\nprint(\"Best R^2 Score:\", best_score)\\n\\n# Fitting the model on training data with best parameters (optional)\\nregressor.set_params(**best_params)\\nregressor.fit(x_train, y_train)\\n\\n# Making predictions on test data\\npreds = regressor.predict(x_test)\\n\\n# Calculating the R^2 score\\nr2 = regressor.score(x_test, y_test)\\nprint(\"R^2 Score:\", r2)'"
      ]
     },
     "execution_count": 15,
     "metadata": {},
     "output_type": "execute_result"
    }
   ],
   "source": [
    "\"\"\"from sklearn.model_selection import GridSearchCV\n",
    "\n",
    "# Creating a pipeline\n",
    "regressor = make_pipeline(\n",
    "    ColumnTransformer([\n",
    "        ('num', StandardScaler(), num_cols),\n",
    "        ('cat', OneHotEncoder(), cat_cols),\n",
    "    ], remainder=\"passthrough\"),\n",
    "    LGBMRegressor(n_jobs=-1)\n",
    ")\n",
    "\n",
    "# Define the parameter grid to search\n",
    "param_grid = {\n",
    "    'lgbmregressor__num_leaves': [20, 30, 40],\n",
    "    'lgbmregressor__learning_rate': [0.05, 0.1, 0.2],\n",
    "    'lgbmregressor__n_estimators': [50, 100, 200]\n",
    "}\n",
    "\n",
    "# Perform grid search with cross-validation\n",
    "grid_search = GridSearchCV(regressor, param_grid, cv=5, scoring='r2')\n",
    "grid_search.fit(x_train, y_train)\n",
    "\n",
    "# Get the best parameters and best score\n",
    "best_params = grid_search.best_params_\n",
    "best_score = grid_search.best_score_\n",
    "\n",
    "print(\"Best Parameters:\", best_params)\n",
    "print(\"Best R^2 Score:\", best_score)\n",
    "\n",
    "# Fitting the model on training data with best parameters (optional)\n",
    "regressor.set_params(**best_params)\n",
    "regressor.fit(x_train, y_train)\n",
    "\n",
    "# Making predictions on test data\n",
    "preds = regressor.predict(x_test)\n",
    "\n",
    "# Calculating the R^2 score\n",
    "r2 = regressor.score(x_test, y_test)\n",
    "print(\"R^2 Score:\", r2)\"\"\"\n",
    "\n"
   ]
  },
  {
   "cell_type": "code",
   "execution_count": 16,
   "id": "3f1efd0e-2997-4f80-9a3e-f949e41ffa85",
   "metadata": {},
   "outputs": [
    {
     "name": "stdout",
     "output_type": "stream",
     "text": [
      "[LightGBM] [Info] Auto-choosing row-wise multi-threading, the overhead of testing was 0.004920 seconds.\n",
      "You can set `force_row_wise=true` to remove the overhead.\n",
      "And if memory is not enough, you can set `force_col_wise=true`.\n",
      "[LightGBM] [Info] Total Bins 1946\n",
      "[LightGBM] [Info] Number of data points in the train set: 80000, number of used features: 25\n",
      "[LightGBM] [Info] Start training from score 4.001762\n",
      "Precision: 0.8198201509345959\n",
      "Recall: 0.8143\n",
      "Accuracy: 0.8143\n",
      "Root Mean Squared Error (RMSE): 0.4158214920173272\n",
      "R-squared (R2) score: 0.9684889147509597\n",
      "Mean Absolute Error (MAE): 0.3060247808423661\n"
     ]
    },
    {
     "name": "stderr",
     "output_type": "stream",
     "text": [
      "C:\\Users\\nagam\\AppData\\Local\\Programs\\Python\\Python312\\Lib\\site-packages\\sklearn\\metrics\\_classification.py:1471: UndefinedMetricWarning: Precision is ill-defined and being set to 0.0 in labels with no predicted samples. Use `zero_division` parameter to control this behavior.\n",
      "  _warn_prf(average, modifier, msg_start, len(result))\n"
     ]
    }
   ],
   "source": [
    "from lightgbm import LGBMRegressor\n",
    "from sklearn.metrics import precision_score, recall_score, accuracy_score, mean_squared_error, r2_score, mean_absolute_error\n",
    "\n",
    "# Create LGBMRegressor model\n",
    "lgbm_regressor = LGBMRegressor()\n",
    "\n",
    "# Train the model using the training sets\n",
    "lgbm_regressor.fit(x_train, y_train)\n",
    "\n",
    "# Make predictions using the testing set\n",
    "y_pred = lgbm_regressor.predict(x_test)\n",
    "\n",
    "# Calculate Precision\n",
    "precision = precision_score(y_test, y_pred.round(), average='weighted')\n",
    "\n",
    "# Calculate Recall\n",
    "recall = recall_score(y_test, y_pred.round(), average='weighted')\n",
    "\n",
    "# Calculate Accuracy\n",
    "accuracy = accuracy_score(y_test, y_pred.round())\n",
    "\n",
    "# Calculate Root Mean Squared Error (RMSE)\n",
    "rmse = mean_squared_error(y_test, y_pred, squared=False)\n",
    "\n",
    "# Calculate R-squared (R2) score\n",
    "r2 = r2_score(y_test, y_pred)\n",
    "\n",
    "# Calculate Mean Absolute Error (MAE)\n",
    "mae = mean_absolute_error(y_test, y_pred)\n",
    "\n",
    "# Print the metrics\n",
    "print('Precision:', precision)\n",
    "print('Recall:', recall)\n",
    "print('Accuracy:', accuracy)\n",
    "print('Root Mean Squared Error (RMSE):', rmse)\n",
    "print('R-squared (R2) score:', r2)\n",
    "print('Mean Absolute Error (MAE):', mae)\n"
   ]
  },
  {
   "cell_type": "code",
   "execution_count": 18,
   "id": "11f8752b-b966-4c6c-a7c8-41c058a1dfec",
   "metadata": {},
   "outputs": [
    {
     "data": {
      "image/png": "[encoded data removed]",
      "text/plain": [
       "<Figure size 640x480 with 1 Axes>"
      ]
     },
     "metadata": {},
     "output_type": "display_data"
    }
   ],
   "source": [
    "# Plotting\n",
    "plt.scatter(y_test, y_pred, color='blue')  # Scatter plot with red color\n",
    "plt.plot(y_test, y_test, color='red')     # Line plot with blue color (y = x line)\n",
    "\n",
    "# Adding labels and title\n",
    "plt.xlabel('Ytest')\n",
    "plt.ylabel('Ypred')\n",
    "plt.title('Comparison between ytest and ypred')\n",
    "\n",
    "# Displaying the plot\n",
    "plt.show()"
   ]
  },
  {
   "cell_type": "code",
   "execution_count": null,
   "id": "a31dc8bb-7758-48c7-abf1-a9ce8ec20ec4",
   "metadata": {},
   "outputs": [],
   "source": []
  }
 ],
 "metadata": {
  "kernelspec": {
   "display_name": "Python 3 (ipykernel)",
   "language": "python",
   "name": "python3"
  },
  "language_info": {
   "codemirror_mode": {
    "name": "ipython",
    "version": 3
   },
   "file_extension": ".py",
   "mimetype": "text/x-python",
   "name": "python",
   "nbconvert_exporter": "python",
   "pygments_lexer": "ipython3",
   "version": "3.12.1"
  },
  "papermill": {
   "default_parameters": {},
   "duration": 57.742045,
   "end_time": "2022-10-27T12:28:54.967982",
   "environment_variables": {},
   "exception": null,
   "input_path": "__notebook__.ipynb",
   "output_path": "__notebook__.ipynb",
   "parameters": {},
   "start_time": "2022-10-27T12:27:57.225937",
   "version": "2.3.4"
  }
 },
 "nbformat": 4,
 "nbformat_minor": 5
}
